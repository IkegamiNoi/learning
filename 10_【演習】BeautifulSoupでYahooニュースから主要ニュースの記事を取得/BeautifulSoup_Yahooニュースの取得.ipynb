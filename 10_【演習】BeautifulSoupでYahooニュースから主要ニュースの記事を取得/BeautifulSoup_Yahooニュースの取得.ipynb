{
 "cells": [
  {
   "cell_type": "code",
   "execution_count": 1,
   "metadata": {},
   "outputs": [],
   "source": [
    "import requests\n",
    "from bs4 import BeautifulSoup\n",
    "import time"
   ]
  },
  {
   "cell_type": "code",
   "execution_count": 2,
   "metadata": {},
   "outputs": [],
   "source": [
    "URL = \"https://www.yahoo.co.jp/\""
   ]
  },
  {
   "cell_type": "code",
   "execution_count": 3,
   "metadata": {},
   "outputs": [],
   "source": [
    "res = requests.get(URL)"
   ]
  },
  {
   "cell_type": "code",
   "execution_count": 4,
   "metadata": {},
   "outputs": [],
   "source": [
    "soup = BeautifulSoup(res.text, \"html.parser\")"
   ]
  },
  {
   "cell_type": "code",
   "execution_count": 5,
   "metadata": {},
   "outputs": [],
   "source": [
    "elems = soup.find_all(\"a\")"
   ]
  },
  {
   "cell_type": "code",
   "execution_count": 6,
   "metadata": {},
   "outputs": [
    {
     "data": {
      "text/plain": [
       "[<a class=\"yMWCYupQNdgppL-NV6sMi _3sAlKGsIBCxTUbNi86oSjt\" data-cl-params=\"_cl_vmodule:header;_cl_link:logo;_cl_position:0\" data-ylk=\"rsec:header;slk:logo;pos:0\" href=\"https://www.yahoo.co.jp\">Yahoo! JAPAN</a>,\n",
       " <a aria-label=\"PayPay STEPへ遷移する\" class=\"yMWCYupQNdgppL-NV6sMi _3sAlKGsIBCxTUbNi86oSjt\" data-cl-params=\"_cl_vmodule:header;_cl_link:paypaystep;_cl_position:0\" data-ylk=\"rsec:header;slk:paypaystep;pos:0\" href=\"https://paypaystep.yahoo.co.jp/?sc_e=ytmh_p2c_web\"><p class=\"oLvk9L5Yk-9JOuzi-OHW5\"><span class=\"t_jb9bKlgIcajcRS2hZAP\">PayPay STEP</span><span class=\"_2Uq6Pw5lfFfxr_OD36xHp6 _1dr5aVDbNPF63JCS2bJhij _18UPg6R6cxJSC9JHKF8juc\" style=\"width:38px;height:38px\"></span></p></a>,\n",
       " <a aria-label=\"カードへ遷移する\" class=\"yMWCYupQNdgppL-NV6sMi _3sAlKGsIBCxTUbNi86oSjt\" data-cl-params=\"_cl_vmodule:header;_cl_link:paypaycard;_cl_position:0\" data-ylk=\"rsec:header;slk:paypaycard;pos:0\" href=\"https://card.yahoo.co.jp/service/redirect/top/\"><p class=\"oLvk9L5Yk-9JOuzi-OHW5\"><span class=\"t_jb9bKlgIcajcRS2hZAP\">カード</span><span class=\"_2Uq6Pw5lfFfxr_OD36xHp6 _1dr5aVDbNPF63JCS2bJhij P1WzQfoRll3q8GIGneUYg\" style=\"width:36px;height:38px\"></span></p></a>,\n",
       " <a aria-label=\"メールへ遷移する\" class=\"yMWCYupQNdgppL-NV6sMi _3sAlKGsIBCxTUbNi86oSjt\" data-cl-params=\"_cl_vmodule:header;_cl_link:mail;_cl_position:0\" data-ylk=\"rsec:header;slk:mail;pos:0\" href=\"https://mail.yahoo.co.jp/\"><p class=\"oLvk9L5Yk-9JOuzi-OHW5\"><span class=\"t_jb9bKlgIcajcRS2hZAP\">メール</span><span class=\"_2Uq6Pw5lfFfxr_OD36xHp6 _1dr5aVDbNPF63JCS2bJhij _3Qi5P0lTFbNkWishPzz8tb\" style=\"width:36px;height:38px\"></span></p></a>,\n",
       " <a aria-label=\"トラベルへ遷移する\" class=\"yMWCYupQNdgppL-NV6sMi _3sAlKGsIBCxTUbNi86oSjt\" data-cl-params=\"_cl_vmodule:header;_cl_link:travel;_cl_position:0\" data-ylk=\"rsec:header;slk:travel;pos:0\" href=\"https://travel.yahoo.co.jp/ikCo.ashx?cosid=y_010017&amp;cosuid=ytmh&amp;surl=%2F&amp;sc_e=ytmh\"><p class=\"oLvk9L5Yk-9JOuzi-OHW5\"><span class=\"t_jb9bKlgIcajcRS2hZAP\">トラベル</span><span class=\"_2Uq6Pw5lfFfxr_OD36xHp6 _1dr5aVDbNPF63JCS2bJhij _1yEKxUFSw-Xv2gaBZsYRuI\" style=\"width:38px;height:38px\"></span></p></a>,\n",
       " <a aria-label=\"ヤフオク!へ遷移する\" class=\"yMWCYupQNdgppL-NV6sMi _3sAlKGsIBCxTUbNi86oSjt\" data-cl-params=\"_cl_vmodule:header;_cl_link:auction;_cl_position:0\" data-ylk=\"rsec:header;slk:auction;pos:0\" href=\"https://auctions.yahoo.co.jp/\"><p class=\"oLvk9L5Yk-9JOuzi-OHW5\"><span class=\"t_jb9bKlgIcajcRS2hZAP\">ヤフオク!</span><span class=\"_2Uq6Pw5lfFfxr_OD36xHp6 _1dr5aVDbNPF63JCS2bJhij _1K47f2oTmrnpusFOpVVqfY\" style=\"width:38px;height:38px\"></span></p></a>,\n",
       " <a aria-label=\"ショッピングへ遷移する\" class=\"yMWCYupQNdgppL-NV6sMi _3sAlKGsIBCxTUbNi86oSjt\" data-cl-params=\"_cl_vmodule:header;_cl_link:shopping;_cl_position:0\" data-ylk=\"rsec:header;slk:shopping;pos:0\" href=\"https://shopping.yahoo.co.jp/?sc_e=ytmh\"><p class=\"oLvk9L5Yk-9JOuzi-OHW5\"><span class=\"t_jb9bKlgIcajcRS2hZAP\">ショッピング</span><span class=\"_2Uq6Pw5lfFfxr_OD36xHp6 _1dr5aVDbNPF63JCS2bJhij MOLSPrtOUmdnYy_LgNt2f\" style=\"width:38px;height:38px\"></span></p></a>,\n",
       " <a aria-label=\"ウェブで検索\" class=\"y9H1Sj9hz4OlEq2_aEt5E\" data-cl-params=\"_cl_vmodule:search;_cl_link:web_tab;_cl_position:0\" data-ylk=\"rsec:search;slk:web_tab;pos:0\" href=\"https://search.yahoo.co.jp/\" tabindex=\"-1\"><span class=\"fQMqQTGJTbIMxjQwZA2zk _3tGRl6x9iIWRiFTkKl3kcR\"><span class=\"_1uQvvM7M_K0hc4e29lRa8 _2B_ETzo6nh1JNMLebSi_2p\">ウェブ</span></span></a>,\n",
       " <a aria-label=\"画像で検索\" class=\"y9H1Sj9hz4OlEq2_aEt5E\" data-cl-params=\"_cl_vmodule:search;_cl_link:img;_cl_position:0\" data-ylk=\"rsec:search;slk:img;pos:0\" href=\"https://search.yahoo.co.jp/image\" tabindex=\"-1\"><span class=\"fQMqQTGJTbIMxjQwZA2zk _3tGRl6x9iIWRiFTkKl3kcR\"><span class=\"_1uQvvM7M_K0hc4e29lRa8\">画像</span></span></a>,\n",
       " <a aria-label=\"動画で検索\" class=\"y9H1Sj9hz4OlEq2_aEt5E\" data-cl-params=\"_cl_vmodule:search;_cl_link:vd;_cl_position:0\" data-ylk=\"rsec:search;slk:vd;pos:0\" href=\"https://search.yahoo.co.jp/video\" tabindex=\"-1\"><span class=\"fQMqQTGJTbIMxjQwZA2zk _3tGRl6x9iIWRiFTkKl3kcR\"><span class=\"_1uQvvM7M_K0hc4e29lRa8\">動画</span></span></a>,\n",
       " <a aria-label=\"知恵袋で検索\" class=\"y9H1Sj9hz4OlEq2_aEt5E\" data-cl-params=\"_cl_vmodule:search;_cl_link:chie;_cl_position:0\" data-ylk=\"rsec:search;slk:chie;pos:0\" href=\"https://chiebukuro.yahoo.co.jp/\" tabindex=\"-1\"><span class=\"fQMqQTGJTbIMxjQwZA2zk _3tGRl6x9iIWRiFTkKl3kcR\"><span class=\"_1uQvvM7M_K0hc4e29lRa8\">知恵袋</span></span></a>,\n",
       " <a aria-label=\"地図で検索\" class=\"y9H1Sj9hz4OlEq2_aEt5E\" data-cl-params=\"_cl_vmodule:search;_cl_link:map;_cl_position:0\" data-ylk=\"rsec:search;slk:map;pos:0\" href=\"https://map.yahoo.co.jp/\" tabindex=\"-1\"><span class=\"fQMqQTGJTbIMxjQwZA2zk _3tGRl6x9iIWRiFTkKl3kcR\"><span class=\"_1uQvvM7M_K0hc4e29lRa8\">地図</span></span></a>,\n",
       " <a aria-label=\"リアルタイムで検索\" class=\"y9H1Sj9hz4OlEq2_aEt5E\" data-cl-params=\"_cl_vmodule:search;_cl_link:realtime;_cl_position:0\" data-ylk=\"rsec:search;slk:realtime;pos:0\" href=\"https://search.yahoo.co.jp/realtime\" tabindex=\"-1\"><span class=\"fQMqQTGJTbIMxjQwZA2zk _3tGRl6x9iIWRiFTkKl3kcR\"><span class=\"_1uQvvM7M_K0hc4e29lRa8\">リアルタイム</span></span></a>,\n",
       " <a aria-label=\"一覧で検索\" class=\"y9H1Sj9hz4OlEq2_aEt5E\" data-cl-params=\"_cl_vmodule:search;_cl_link:svc;_cl_position:0\" data-ylk=\"rsec:search;slk:svc;pos:0\" href=\"https://services.yahoo.co.jp/\" tabindex=\"-1\"><span class=\"fQMqQTGJTbIMxjQwZA2zk _3tGRl6x9iIWRiFTkKl3kcR\"><span class=\"_1uQvvM7M_K0hc4e29lRa8\">一覧</span></span></a>,\n",
       " <a class=\"_1NzGMsC3awTFzjzXnvX-zV\" data-cl-params=\"_cl_vmodule:message;_cl_link:jsof;_cl_position:0\" data-ylk=\"rsec:message;slk:jsof;pos:0\" href=\"https://support.yahoo-net.jp/noscript\">JavaScriptの設定方法</a>,\n",
       " <a class=\"_1NzGMsC3awTFzjzXnvX-zV\" data-cl-params=\"_cl_vmodule:message;_cl_link:cgrade;_cl_position:0\" data-ylk=\"rsec:message;slk:cgrade;pos:0\" href=\"https://support.yahoo-net.jp/PccYjcommon/s/article/H000011342\">Internet Explorerの互換表示について</a>,\n",
       " <a class=\"yMWCYupQNdgppL-NV6sMi _3sAlKGsIBCxTUbNi86oSjt\" data-cl-params=\"_cl_vmodule:toplink;_cl_link:link;_cl_position:1;aid:2565146\" data-ylk=\"rsec:toplink;slk:link;pos:1;aid:2565146\" href=\"https://shopping.geocities.jp/zozo/sale/?sc_e=yttl_pc_zozosale\"><span class=\"fQMqQTGJTbIMxjQwZA2zk _3tGRl6x9iIWRiFTkKl3kcR\"><span class=\"_3S2Wdrkt1LKANaWcLrZToT\">最大92％オフ　お得なZOZOSALE開催</span></span></a>,\n",
       " <a class=\"yMWCYupQNdgppL-NV6sMi _3sAlKGsIBCxTUbNi86oSjt\" data-cl-params=\"_cl_vmodule:toplink;_cl_link:link;_cl_position:2;aid:2565104\" data-ylk=\"rsec:toplink;slk:link;pos:2;aid:2565104\" href=\"https://topics.shopping.yahoo.co.jp/promo/gotouchi/shiga/\"><span class=\"fQMqQTGJTbIMxjQwZA2zk _3tGRl6x9iIWRiFTkKl3kcR\"><span class=\"_3S2Wdrkt1LKANaWcLrZToT\">近江牛など滋賀の逸品が集合　お得なクーポンも</span></span></a>,\n",
       " <a class=\"yMWCYupQNdgppL-NV6sMi _3sAlKGsIBCxTUbNi86oSjt\" data-cl-params=\"_cl_vmodule:toplink;_cl_link:link;_cl_position:3;aid:2565128\" data-ylk=\"rsec:toplink;slk:link;pos:3;aid:2565128\" href=\"https://gyao.yahoo.co.jp/specials/shingeki?source=ytop.link\"><span class=\"fQMqQTGJTbIMxjQwZA2zk _3tGRl6x9iIWRiFTkKl3kcR\"><span class=\"_3S2Wdrkt1LKANaWcLrZToT\">進撃の巨人The Final Season　配信中</span></span></a>,\n",
       " <a aria-label=\"ショッピングへ遷移する\" class=\"yMWCYupQNdgppL-NV6sMi _3sAlKGsIBCxTUbNi86oSjt\" href=\"https://shopping.yahoo.co.jp/?sc_e=ytc\"><p class=\"_2bBRLhI5ZpVYu0tuHZEFrn\"><span class=\"pz0On1w4yAviBGMdKItoQ\"><span class=\"fQMqQTGJTbIMxjQwZA2zk _3tGRl6x9iIWRiFTkKl3kcR\">ショッピング</span></span><span class=\"_1Al3K70np2V_Ev1eGkfsBm\"><span class=\"_2Uq6Pw5lfFfxr_OD36xHp6 _1dr5aVDbNPF63JCS2bJhij MOLSPrtOUmdnYy_LgNt2f\" style=\"width:20px;height:20px\"></span></span></p></a>,\n",
       " <a aria-label=\"PayPayモールへ遷移する\" class=\"yMWCYupQNdgppL-NV6sMi _3sAlKGsIBCxTUbNi86oSjt\" href=\"https://paypaymall.yahoo.co.jp/?sc_e=ytc\"><p class=\"_2bBRLhI5ZpVYu0tuHZEFrn\"><span class=\"pz0On1w4yAviBGMdKItoQ\"><span class=\"fQMqQTGJTbIMxjQwZA2zk _3tGRl6x9iIWRiFTkKl3kcR\">PayPayモール</span></span><span class=\"_1Al3K70np2V_Ev1eGkfsBm\"><span class=\"_2Uq6Pw5lfFfxr_OD36xHp6 _1dr5aVDbNPF63JCS2bJhij _2aNXx7_xy-w5TRQtsAbLhN\" style=\"width:20px;height:20px\"></span></span></p></a>,\n",
       " <a aria-label=\"ヤフオク!へ遷移する\" class=\"yMWCYupQNdgppL-NV6sMi _3sAlKGsIBCxTUbNi86oSjt\" href=\"https://auctions.yahoo.co.jp\"><p class=\"_2bBRLhI5ZpVYu0tuHZEFrn\"><span class=\"pz0On1w4yAviBGMdKItoQ\"><span class=\"fQMqQTGJTbIMxjQwZA2zk _3tGRl6x9iIWRiFTkKl3kcR\">ヤフオク!</span></span><span class=\"_1Al3K70np2V_Ev1eGkfsBm\"><span class=\"_2Uq6Pw5lfFfxr_OD36xHp6 _1dr5aVDbNPF63JCS2bJhij _1K47f2oTmrnpusFOpVVqfY\" style=\"width:20px;height:20px\"></span></span></p></a>,\n",
       " <a aria-label=\"PayPayフリマへ遷移する\" class=\"yMWCYupQNdgppL-NV6sMi _3sAlKGsIBCxTUbNi86oSjt\" href=\"https://app.adjust.com/1kmi1m2?redirect=https%3A%2F%2Fpaypayfleamarket.yahoo.co.jp%2F%3Fcpt_s%3Dytopmedia%26cpt_m%3Dkotei%26cpt_n%3Dcontent%26cpt_c%3Dytopmedia\"><p class=\"_2bBRLhI5ZpVYu0tuHZEFrn\"><span class=\"pz0On1w4yAviBGMdKItoQ\"><span class=\"fQMqQTGJTbIMxjQwZA2zk _3tGRl6x9iIWRiFTkKl3kcR\">PayPayフリマ</span></span><span class=\"_1Al3K70np2V_Ev1eGkfsBm\"><span class=\"_2Uq6Pw5lfFfxr_OD36xHp6 _1dr5aVDbNPF63JCS2bJhij _3zb-zxOYGPoHJ2-_Ie8y8T\" style=\"width:20px;height:20px\"></span></span></p></a>,\n",
       " <a aria-label=\"ZOZOTOWNへ遷移する\" class=\"yMWCYupQNdgppL-NV6sMi _3sAlKGsIBCxTUbNi86oSjt\" href=\"https://zozo.jp/?utm_source=yahoo&amp;utm_medium=referral&amp;utm_campaign=web_ytop-leftcolumn\"><p class=\"_2bBRLhI5ZpVYu0tuHZEFrn\"><span class=\"pz0On1w4yAviBGMdKItoQ\"><span class=\"fQMqQTGJTbIMxjQwZA2zk _3tGRl6x9iIWRiFTkKl3kcR\">ZOZOTOWN</span></span><span class=\"_1Al3K70np2V_Ev1eGkfsBm\"><span class=\"_2Uq6Pw5lfFfxr_OD36xHp6 _1dr5aVDbNPF63JCS2bJhij _2VdNwkD_q8hjK0ZyvATgab\" style=\"width:20px;height:20px\"></span></span></p></a>,\n",
       " <a aria-label=\"LOHACOへ遷移する\" class=\"yMWCYupQNdgppL-NV6sMi _3sAlKGsIBCxTUbNi86oSjt\" href=\"https://lohaco.yahoo.co.jp/?bk=t&amp;sc_e=j_as_ya_tc_n&amp;iscr=1\"><p class=\"_2bBRLhI5ZpVYu0tuHZEFrn\"><span class=\"pz0On1w4yAviBGMdKItoQ\"><span class=\"fQMqQTGJTbIMxjQwZA2zk _3tGRl6x9iIWRiFTkKl3kcR\">LOHACO</span></span><span class=\"_1Al3K70np2V_Ev1eGkfsBm\"><span class=\"_2Uq6Pw5lfFfxr_OD36xHp6 _1dr5aVDbNPF63JCS2bJhij _3xvmznkMqRitO0Iqn3ckur\" style=\"width:20px;height:20px\"></span></span></p></a>,\n",
       " <a aria-label=\"トラベルへ遷移する\" class=\"yMWCYupQNdgppL-NV6sMi _3sAlKGsIBCxTUbNi86oSjt\" href=\"https://travel.yahoo.co.jp/ikCo.ashx?cosid=y_010002&amp;cosuid=ytsl&amp;surl=%2F&amp;sc_e=ytsl\"><p class=\"_2bBRLhI5ZpVYu0tuHZEFrn\"><span class=\"pz0On1w4yAviBGMdKItoQ\"><span class=\"fQMqQTGJTbIMxjQwZA2zk _3tGRl6x9iIWRiFTkKl3kcR\">トラベル</span></span><span class=\"_1Al3K70np2V_Ev1eGkfsBm\"><span class=\"_2Uq6Pw5lfFfxr_OD36xHp6 _1dr5aVDbNPF63JCS2bJhij _1yEKxUFSw-Xv2gaBZsYRuI\" style=\"width:20px;height:20px\"></span></span></p></a>,\n",
       " <a aria-label=\"一休.comへ遷移する\" class=\"yMWCYupQNdgppL-NV6sMi _3sAlKGsIBCxTUbNi86oSjt\" href=\"https://www.ikyu.com/ikCo.ashx?cosid=ik010002&amp;surl=%2F&amp;sc_e=ytc_pc_ikyu\"><p class=\"_2bBRLhI5ZpVYu0tuHZEFrn\"><span class=\"pz0On1w4yAviBGMdKItoQ\"><span class=\"fQMqQTGJTbIMxjQwZA2zk _3tGRl6x9iIWRiFTkKl3kcR\">一休.com</span></span><span class=\"_1Al3K70np2V_Ev1eGkfsBm\"><span class=\"_2Uq6Pw5lfFfxr_OD36xHp6 _1dr5aVDbNPF63JCS2bJhij daLkyi7PiGXeFyVYTU_9n\" style=\"width:20px;height:20px\"></span></span></p></a>,\n",
       " <a aria-label=\"一休.comレストランへ遷移する\" class=\"yMWCYupQNdgppL-NV6sMi _3sAlKGsIBCxTUbNi86oSjt\" href=\"https://restaurant.ikyu.com/rsCosite.asp?CosNo=10000175&amp;CosUrl=\"><p class=\"_2bBRLhI5ZpVYu0tuHZEFrn\"><span class=\"pz0On1w4yAviBGMdKItoQ\"><span class=\"fQMqQTGJTbIMxjQwZA2zk _3tGRl6x9iIWRiFTkKl3kcR\">一休.comレストラン</span></span><span class=\"_1Al3K70np2V_Ev1eGkfsBm\"><span class=\"_2Uq6Pw5lfFfxr_OD36xHp6 _1dr5aVDbNPF63JCS2bJhij _1z4Le4zkghapVZCQm9RCy8\" style=\"width:20px;height:20px\"></span></span></p></a>,\n",
       " <a aria-label=\"出前館へ遷移する\" class=\"yMWCYupQNdgppL-NV6sMi _3sAlKGsIBCxTUbNi86oSjt\" href=\"https://demae-can.com/?utm_source=yahoo&amp;utm_medium=toplink&amp;utm_campaign=demaecantop\"><p class=\"_2bBRLhI5ZpVYu0tuHZEFrn\"><span class=\"pz0On1w4yAviBGMdKItoQ\"><span class=\"fQMqQTGJTbIMxjQwZA2zk _3tGRl6x9iIWRiFTkKl3kcR\">出前館</span></span><span class=\"_1Al3K70np2V_Ev1eGkfsBm\"><span class=\"_2Uq6Pw5lfFfxr_OD36xHp6 _1dr5aVDbNPF63JCS2bJhij NuRliOifOckuQ9kobVaI9\" style=\"width:20px;height:20px\"></span></span></p></a>,\n",
       " <a aria-label=\"Yahoo! JAPANのサービス一覧\" class=\"yMWCYupQNdgppL-NV6sMi _3sAlKGsIBCxTUbNi86oSjt\" data-cl-params=\"_cl_vmodule:tool;_cl_link:list;_cl_position:0\" data-ylk=\"rsec:tool;slk:list;pos:0\" href=\"https://services.yahoo.co.jp/\"><dl class=\"STepvEgbaZ0rLEqfER-qm\"><dt class=\"W2bretj6vyf8QDes2gkQA\"><span class=\"fQMqQTGJTbIMxjQwZA2zk _3tGRl6x9iIWRiFTkKl3kcR\">サービス一覧</span></dt><dd class=\"_37zK--zuySKLzNE12rgdHL\"><span class=\"_2Uq6Pw5lfFfxr_OD36xHp6 _1dr5aVDbNPF63JCS2bJhij _3WrFs0ChLr_s9-gBqS7yts\" style=\"width:12px;height:12px\"></span></dd></dl></a>,\n",
       " <a class=\"yMWCYupQNdgppL-NV6sMi _3sAlKGsIBCxTUbNi86oSjt\" data-cl-params=\"_cl_vmodule:tpto;_cl_link:title;_cl_position:1;tpid:6417988;imgsize:s;cmt_num:1177\" data-ual-gotocontent=\"true\" data-ylk=\"rsec:tpto;slk:title;pos:1;tpid:6417988;imgsize:s;cmt_num:1177\" href=\"https://news.yahoo.co.jp/pickup/6417988\"><div class=\"_2cXD1uC4eaOih4-zkRgqjU\"><div class=\"TRuzXRRZHRqbqgLUCCco9\"><h1 class=\"_3cl937Zpn1ce8mDKd5kp7u\"><span class=\"fQMqQTGJTbIMxjQwZA2zk _3tGRl6x9iIWRiFTkKl3kcR\">全国の重症者1352人 1カ月で13倍</span></h1></div></div></a>,\n",
       " <a class=\"yMWCYupQNdgppL-NV6sMi _3sAlKGsIBCxTUbNi86oSjt\" data-cl-params=\"_cl_vmodule:tpto;_cl_link:title;_cl_position:2;tpid:6417987;imgsize:s;cmt_num:2476\" data-ual-gotocontent=\"true\" data-ylk=\"rsec:tpto;slk:title;pos:2;tpid:6417987;imgsize:s;cmt_num:2476\" href=\"https://news.yahoo.co.jp/pickup/6417987\"><div class=\"_2cXD1uC4eaOih4-zkRgqjU\"><div class=\"TRuzXRRZHRqbqgLUCCco9\"><h1 class=\"_3cl937Zpn1ce8mDKd5kp7u\"><span class=\"fQMqQTGJTbIMxjQwZA2zk _3tGRl6x9iIWRiFTkKl3kcR\">濃厚接触 欠勤扱いは「死活問題」</span></h1></div></div></a>,\n",
       " <a class=\"yMWCYupQNdgppL-NV6sMi _3sAlKGsIBCxTUbNi86oSjt\" data-cl-params=\"_cl_vmodule:tpto;_cl_link:title;_cl_position:3;tpid:6417993;imgsize:s;cmt_num:382\" data-ual-gotocontent=\"true\" data-ylk=\"rsec:tpto;slk:title;pos:3;tpid:6417993;imgsize:s;cmt_num:382\" href=\"https://news.yahoo.co.jp/pickup/6417993\"><div class=\"_2cXD1uC4eaOih4-zkRgqjU\"><div class=\"TRuzXRRZHRqbqgLUCCco9\"><h1 class=\"_3cl937Zpn1ce8mDKd5kp7u\"><span class=\"fQMqQTGJTbIMxjQwZA2zk _3tGRl6x9iIWRiFTkKl3kcR\">在ウクライナ米大使館職員 退避へ</span></h1><span class=\"_2obRU_TgAxzHaYqOXrZYlv\"><span class=\"h4yLXygiSc5wwNlJOQEdz _1dr5aVDbNPF63JCS2bJhij _2M3AyDfFaeJl3Uo7lUPMAp\" style=\"width:30px;height:12px\">NEW</span></span></div></div></a>,\n",
       " <a class=\"yMWCYupQNdgppL-NV6sMi _3sAlKGsIBCxTUbNi86oSjt\" data-cl-params=\"_cl_vmodule:tpto;_cl_link:title;_cl_position:4;tpid:6417994;imgsize:s;cmt_num:108\" data-ual-gotocontent=\"true\" data-ylk=\"rsec:tpto;slk:title;pos:4;tpid:6417994;imgsize:s;cmt_num:108\" href=\"https://news.yahoo.co.jp/pickup/6417994\"><div class=\"_2cXD1uC4eaOih4-zkRgqjU\"><div class=\"TRuzXRRZHRqbqgLUCCco9\"><h1 class=\"_3cl937Zpn1ce8mDKd5kp7u\"><span class=\"fQMqQTGJTbIMxjQwZA2zk _3tGRl6x9iIWRiFTkKl3kcR\">貨物便の落下部品 滑走路脇で発見</span></h1><span class=\"_2obRU_TgAxzHaYqOXrZYlv\"><span class=\"h4yLXygiSc5wwNlJOQEdz _1dr5aVDbNPF63JCS2bJhij _2M3AyDfFaeJl3Uo7lUPMAp\" style=\"width:30px;height:12px\">NEW</span></span></div></div></a>,\n",
       " <a class=\"yMWCYupQNdgppL-NV6sMi _3sAlKGsIBCxTUbNi86oSjt\" data-cl-params=\"_cl_vmodule:tpto;_cl_link:title;_cl_position:5;tpid:6417998;imgsize:s;cmt_num:242\" data-ual-gotocontent=\"true\" data-ylk=\"rsec:tpto;slk:title;pos:5;tpid:6417998;imgsize:s;cmt_num:242\" href=\"https://news.yahoo.co.jp/pickup/6417998\"><div class=\"_2cXD1uC4eaOih4-zkRgqjU\"><div class=\"TRuzXRRZHRqbqgLUCCco9\"><h1 class=\"_3cl937Zpn1ce8mDKd5kp7u\"><span class=\"fQMqQTGJTbIMxjQwZA2zk _3tGRl6x9iIWRiFTkKl3kcR\">京急パタパタ撤去 助役さみしい</span></h1><span class=\"_2obRU_TgAxzHaYqOXrZYlv\"><span class=\"h4yLXygiSc5wwNlJOQEdz _1dr5aVDbNPF63JCS2bJhij _2M3AyDfFaeJl3Uo7lUPMAp\" style=\"width:30px;height:12px\">NEW</span></span></div></div></a>,\n",
       " <a class=\"yMWCYupQNdgppL-NV6sMi _3sAlKGsIBCxTUbNi86oSjt\" data-cl-params=\"_cl_vmodule:tpto;_cl_link:title;_cl_position:6;tpid:6417991;imgsize:s;cmt_num:365\" data-ual-gotocontent=\"true\" data-ylk=\"rsec:tpto;slk:title;pos:6;tpid:6417991;imgsize:s;cmt_num:365\" href=\"https://news.yahoo.co.jp/pickup/6417991\"><div class=\"_2cXD1uC4eaOih4-zkRgqjU\"><div class=\"TRuzXRRZHRqbqgLUCCco9\"><h1 class=\"_3cl937Zpn1ce8mDKd5kp7u\"><span class=\"fQMqQTGJTbIMxjQwZA2zk _3tGRl6x9iIWRiFTkKl3kcR\">大逆転 藤沢五月「練習してきた」</span></h1><span class=\"_2obRU_TgAxzHaYqOXrZYlv\"><span class=\"h4yLXygiSc5wwNlJOQEdz _1dr5aVDbNPF63JCS2bJhij _2M3AyDfFaeJl3Uo7lUPMAp\" style=\"width:30px;height:12px\">NEW</span></span></div></div></a>,\n",
       " <a class=\"yMWCYupQNdgppL-NV6sMi _3sAlKGsIBCxTUbNi86oSjt\" data-cl-params=\"_cl_vmodule:tpto;_cl_link:title;_cl_position:7;tpid:6417990;imgsize:s;cmt_num:612\" data-ual-gotocontent=\"true\" data-ylk=\"rsec:tpto;slk:title;pos:7;tpid:6417990;imgsize:s;cmt_num:612\" href=\"https://news.yahoo.co.jp/pickup/6417990\"><div class=\"_2cXD1uC4eaOih4-zkRgqjU\"><div class=\"TRuzXRRZHRqbqgLUCCco9\"><h1 class=\"_3cl937Zpn1ce8mDKd5kp7u\"><span class=\"fQMqQTGJTbIMxjQwZA2zk _3tGRl6x9iIWRiFTkKl3kcR\">エキシビに羽生? 組織委まだ内緒</span></h1></div></div></a>,\n",
       " <a class=\"yMWCYupQNdgppL-NV6sMi _3sAlKGsIBCxTUbNi86oSjt\" data-cl-params=\"_cl_vmodule:tpto;_cl_link:title;_cl_position:8;tpid:6417986;imgsize:s;cmt_num:326\" data-ual-gotocontent=\"true\" data-ylk=\"rsec:tpto;slk:title;pos:8;tpid:6417986;imgsize:s;cmt_num:326\" href=\"https://news.yahoo.co.jp/pickup/6417986\"><div class=\"_2cXD1uC4eaOih4-zkRgqjU\"><div class=\"TRuzXRRZHRqbqgLUCCco9\"><h1 class=\"_3cl937Zpn1ce8mDKd5kp7u\"><span class=\"fQMqQTGJTbIMxjQwZA2zk _3tGRl6x9iIWRiFTkKl3kcR\">テリー伊藤「ダンス甲子園」秘話</span></h1></div></div></a>,\n",
       " <a class=\"yMWCYupQNdgppL-NV6sMi _3sAlKGsIBCxTUbNi86oSjt\" data-cl-params=\"_cl_vmodule:tpto;_cl_link:title;_cl_position:9;imgsize:l\" data-ylk=\"rsec:tpto;slk:title;pos:9;imgsize:l\" href=\"https://news.yahoo.co.jp/articles/608057562abefed49384bb9fd61d13cc6c3c1fd7/images/000\"><div class=\"_1EYwdR4JxrwgpIvWk7vO3f\"><h1 class=\"RS4h_eDWC6FIIyYMupWR0\"><span class=\"fQMqQTGJTbIMxjQwZA2zk _3tGRl6x9iIWRiFTkKl3kcR\">大逆転勝利</span></h1><p class=\"_2e8OreFgYIc3gdzYJLKAMA\"><time class=\"_1GD9Sx7FpCs4EuL3bT974r\">2/12(土) 13:08</time></p><div class=\"_1pfcRKnf6y-2AXzpXf0vrb\"><cite class=\"O9jggTRv0zy3XcPayfJLa\">時事通信</cite></div><div class=\"_1UmUawjY6VSzmTK3Y-1sjq\"><span class=\"rStpk9W4eUO5IMVhnJylj\"><picture><source srcset=\"https://news-pctr.c.yimg.jp/t/news-topics/images/tpc/2022/2/12/9b677f999e6c51e252d4de3b3412036032f89e557e6e75708dcf5bdd63841972.jpg?h=200&amp;w=200&amp;pri=l&amp;fmt=webp\" type=\"image/webp\"/><img alt=\"\" height=\"71.015625\" src=\"https://news-pctr.c.yimg.jp/t/news-topics/images/tpc/2022/2/12/9b677f999e6c51e252d4de3b3412036032f89e557e6e75708dcf5bdd63841972.jpg?h=200&amp;w=200&amp;pri=l\" width=\"90\"/></picture></span></div></div></a>,\n",
       " <a class=\"yMWCYupQNdgppL-NV6sMi _3sAlKGsIBCxTUbNi86oSjt\" data-cl-params=\"_cl_vmodule:tpto;_cl_link:more;_cl_position:0\" data-ylk=\"rsec:tpto;slk:more;pos:0\" href=\"https://news.yahoo.co.jp/topics/top-picks\">もっと見る</a>,\n",
       " <a class=\"yMWCYupQNdgppL-NV6sMi _3sAlKGsIBCxTUbNi86oSjt\" data-cl-params=\"_cl_vmodule:tpto;_cl_link:list;_cl_position:0\" data-ylk=\"rsec:tpto;slk:list;pos:0\" href=\"https://news.yahoo.co.jp/topics\">トピックス一覧</a>,\n",
       " <a class=\"yMWCYupQNdgppL-NV6sMi _3sAlKGsIBCxTUbNi86oSjt\" data-cl-params=\"_cl_vmodule:personal;_cl_link:login;_cl_position:0\" data-ylk=\"rsec:personal;slk:login;pos:0\" href=\"https://login.yahoo.co.jp/config/login?.src=www&amp;.done=https://www.yahoo.co.jp/\"><span class=\"fQMqQTGJTbIMxjQwZA2zk _3tGRl6x9iIWRiFTkKl3kcR\">ログイン</span></a>,\n",
       " <a class=\"yMWCYupQNdgppL-NV6sMi _3sAlKGsIBCxTUbNi86oSjt\" data-cl-params=\"_cl_vmodule:personal;_cl_link:reg;_cl_position:0\" data-ylk=\"rsec:personal;slk:reg;pos:0\" href=\"https://account.edit.yahoo.co.jp/registration?.src=www&amp;.done=https://www.yahoo.co.jp/\"><span class=\"_1mkb9myOuisBstoCqO0Hqs\">ID新規取得</span></a>,\n",
       " <a class=\"yMWCYupQNdgppL-NV6sMi _3sAlKGsIBCxTUbNi86oSjt\" data-cl-params=\"_cl_vmodule:personal;_cl_link:profile;_cl_position:0\" data-ylk=\"rsec:personal;slk:profile;pos:0\" href=\"https://login.yahoo.co.jp/config/login?.src=www&amp;.done=https%3A%2F%2Faccounts.yahoo.co.jp%2Fprofile%3F.done%3Dhttps%253A%252F%252Fwww.yahoo.co.jp%252F%253F.src%253Dwww%2526t_cushion%253D1\"><p class=\"_2KSAVmekATGu43KySZB31Z _39bsyXI766slVaQ8YaCP7e\">登録情報</p></a>,\n",
       " <a aria-label=\"メール\" class=\"yMWCYupQNdgppL-NV6sMi _3sAlKGsIBCxTUbNi86oSjt\" data-cl-params=\"_cl_vmodule:personal;_cl_link:mail;_cl_position:0\" data-ylk=\"rsec:personal;slk:mail;pos:0\" href=\"https://mail.yahoo.co.jp/\"><dl class=\"NhCWhleHpZ0CADioxObVu\"><dt class=\"_3KpLuhOuze7bsGr1VOVvCU\"><span class=\"_2Uq6Pw5lfFfxr_OD36xHp6 _1dr5aVDbNPF63JCS2bJhij _3Qi5P0lTFbNkWishPzz8tb\" style=\"width:34px;height:28px\">メール</span></dt><dd class=\"_1CLgF9dk2PVVFQFnko3vN0\"><span class=\"fQMqQTGJTbIMxjQwZA2zk DB1xWkV-AiF3oBGL1BuYd\">メール</span></dd></dl></a>,\n",
       " <a aria-label=\"ポイント確認\" class=\"yMWCYupQNdgppL-NV6sMi _3sAlKGsIBCxTUbNi86oSjt\" data-cl-params=\"_cl_vmodule:personal;_cl_link:point;_cl_position:0;badge:off\" data-ylk=\"rsec:personal;slk:point;pos:0;badge:off\" href=\"https://points.yahoo.co.jp/\"><dl class=\"NhCWhleHpZ0CADioxObVu\"><dt class=\"_3KpLuhOuze7bsGr1VOVvCU\"><span class=\"_2Uq6Pw5lfFfxr_OD36xHp6 _1dr5aVDbNPF63JCS2bJhij _2bzYtaEVOOQInqzAcQ1cme\" style=\"width:28px;height:28px\">Ｔポイント</span></dt><dd class=\"_1CLgF9dk2PVVFQFnko3vN0\"><span class=\"fQMqQTGJTbIMxjQwZA2zk DB1xWkV-AiF3oBGL1BuYd\">ポイント確認</span></dd></dl></a>,\n",
       " <a aria-label=\"PayPay残高確認\" class=\"yMWCYupQNdgppL-NV6sMi _3sAlKGsIBCxTUbNi86oSjt\" data-cl-params=\"_cl_vmodule:personal;_cl_link:paypay;_cl_position:0;badge:off\" data-ylk=\"rsec:personal;slk:paypay;pos:0;badge:off\" href=\"https://wallet.yahoo.co.jp/paypay/balance?.done=https%3A%2F%2Fwww.yahoo.co.jp%2F&amp;.bail=https%3A%2F%2Fwww.yahoo.co.jp%2F&amp;.linkdisp=1&amp;sc_e=ywww_pp_top_pc1\"><dl class=\"NhCWhleHpZ0CADioxObVu\"><dt class=\"_3KpLuhOuze7bsGr1VOVvCU\"><span class=\"_2Uq6Pw5lfFfxr_OD36xHp6 _1dr5aVDbNPF63JCS2bJhij _2288dlil4Nkm3lO8Sm3hDU\" style=\"width:28px;height:28px\">PayPay</span></dt><dd class=\"_1CLgF9dk2PVVFQFnko3vN0\"><span class=\"fQMqQTGJTbIMxjQwZA2zk DB1xWkV-AiF3oBGL1BuYd\">PayPay残高確認</span></dd></dl></a>,\n",
       " <a aria-label=\"今日の日付は2022年2月12日　土曜日\" class=\"yMWCYupQNdgppL-NV6sMi _3sAlKGsIBCxTUbNi86oSjt\" data-cl-params=\"_cl_vmodule:today;_cl_link:date;_cl_position:0\" data-ylk=\"rsec:today;slk:date;pos:0\" href=\"https://calendar.yahoo.co.jp\"><span class=\"fQMqQTGJTbIMxjQwZA2zk _3tGRl6x9iIWRiFTkKl3kcR\"><time class=\"_39pIdCsxycrMrZfr-69cAP\" datetime=\"2022-02-12T07:52:46.000Z\">2022年2月12日(土)</time></span></a>,\n",
       " <a class=\"yMWCYupQNdgppL-NV6sMi _3sAlKGsIBCxTUbNi86oSjt\" data-cl-params=\"_cl_link:comp;_cl_position:0\" data-ylk=\"slk:comp;pos:0\" href=\"https://about.yahoo.co.jp/\">会社概要</a>,\n",
       " <a class=\"yMWCYupQNdgppL-NV6sMi _3sAlKGsIBCxTUbNi86oSjt\" data-cl-params=\"_cl_link:soc;_cl_position:0\" data-ylk=\"slk:soc;pos:0\" href=\"https://about.yahoo.co.jp/csr/\">社会的責任</a>,\n",
       " <a class=\"yMWCYupQNdgppL-NV6sMi _3sAlKGsIBCxTUbNi86oSjt\" data-cl-params=\"_cl_link:ad;_cl_position:0\" data-ylk=\"slk:ad;pos:0\" href=\"https://marketing.yahoo.co.jp/\">広告掲載について</a>,\n",
       " <a class=\"yMWCYupQNdgppL-NV6sMi _3sAlKGsIBCxTUbNi86oSjt\" data-cl-params=\"_cl_link:hr;_cl_position:0\" data-ylk=\"slk:hr;pos:0\" href=\"https://about.yahoo.co.jp/hr/\">採用情報</a>,\n",
       " <a class=\"yMWCYupQNdgppL-NV6sMi _3sAlKGsIBCxTUbNi86oSjt\" data-cl-params=\"_cl_link:agreement;_cl_position:0\" data-ylk=\"slk:agreement;pos:0\" href=\"https://about.yahoo.co.jp/common/terms/\">利用規約</a>,\n",
       " <a class=\"yMWCYupQNdgppL-NV6sMi _3sAlKGsIBCxTUbNi86oSjt\" data-cl-params=\"_cl_link:disc;_cl_position:0\" data-ylk=\"slk:disc;pos:0\" href=\"https://about.yahoo.co.jp/common/disclaimer/\">免責事項</a>,\n",
       " <a class=\"yMWCYupQNdgppL-NV6sMi _3sAlKGsIBCxTUbNi86oSjt\" data-cl-params=\"_cl_link:state;_cl_position:0\" data-ylk=\"slk:state;pos:0\" href=\"https://about.yahoo.co.jp/common/mediastatement/\">メディアステートメント</a>,\n",
       " <a class=\"yMWCYupQNdgppL-NV6sMi _3sAlKGsIBCxTUbNi86oSjt\" data-cl-params=\"_cl_link:policy;_cl_position:0\" data-ylk=\"slk:policy;pos:0\" href=\"https://privacy.yahoo.co.jp/\">プライバシー</a>,\n",
       " <a class=\"yMWCYupQNdgppL-NV6sMi _3sAlKGsIBCxTUbNi86oSjt\" data-cl-params=\"_cl_link:z_comp;_cl_position:0\" data-ylk=\"slk:z_comp;pos:0\" href=\"https://www.z-holdings.co.jp/\">会社概要</a>,\n",
       " <a class=\"yMWCYupQNdgppL-NV6sMi _3sAlKGsIBCxTUbNi86oSjt\" data-cl-params=\"_cl_link:ir;_cl_position:0\" data-ylk=\"slk:ir;pos:0\" href=\"https://www.z-holdings.co.jp/ir/\">投資家情報</a>]"
      ]
     },
     "execution_count": 6,
     "metadata": {},
     "output_type": "execute_result"
    }
   ],
   "source": [
    "elems"
   ]
  },
  {
   "cell_type": "code",
   "execution_count": 7,
   "metadata": {},
   "outputs": [],
   "source": [
    "import re"
   ]
  },
  {
   "cell_type": "code",
   "execution_count": 8,
   "metadata": {},
   "outputs": [],
   "source": [
    "elems = soup.find_all(href=re.compile(\"news.yahoo.co.jp/pickup\"))"
   ]
  },
  {
   "cell_type": "code",
   "execution_count": 9,
   "metadata": {},
   "outputs": [
    {
     "data": {
      "text/plain": [
       "[<a class=\"yMWCYupQNdgppL-NV6sMi _3sAlKGsIBCxTUbNi86oSjt\" data-cl-params=\"_cl_vmodule:tpto;_cl_link:title;_cl_position:1;tpid:6417988;imgsize:s;cmt_num:1177\" data-ual-gotocontent=\"true\" data-ylk=\"rsec:tpto;slk:title;pos:1;tpid:6417988;imgsize:s;cmt_num:1177\" href=\"https://news.yahoo.co.jp/pickup/6417988\"><div class=\"_2cXD1uC4eaOih4-zkRgqjU\"><div class=\"TRuzXRRZHRqbqgLUCCco9\"><h1 class=\"_3cl937Zpn1ce8mDKd5kp7u\"><span class=\"fQMqQTGJTbIMxjQwZA2zk _3tGRl6x9iIWRiFTkKl3kcR\">全国の重症者1352人 1カ月で13倍</span></h1></div></div></a>,\n",
       " <a class=\"yMWCYupQNdgppL-NV6sMi _3sAlKGsIBCxTUbNi86oSjt\" data-cl-params=\"_cl_vmodule:tpto;_cl_link:title;_cl_position:2;tpid:6417987;imgsize:s;cmt_num:2476\" data-ual-gotocontent=\"true\" data-ylk=\"rsec:tpto;slk:title;pos:2;tpid:6417987;imgsize:s;cmt_num:2476\" href=\"https://news.yahoo.co.jp/pickup/6417987\"><div class=\"_2cXD1uC4eaOih4-zkRgqjU\"><div class=\"TRuzXRRZHRqbqgLUCCco9\"><h1 class=\"_3cl937Zpn1ce8mDKd5kp7u\"><span class=\"fQMqQTGJTbIMxjQwZA2zk _3tGRl6x9iIWRiFTkKl3kcR\">濃厚接触 欠勤扱いは「死活問題」</span></h1></div></div></a>,\n",
       " <a class=\"yMWCYupQNdgppL-NV6sMi _3sAlKGsIBCxTUbNi86oSjt\" data-cl-params=\"_cl_vmodule:tpto;_cl_link:title;_cl_position:3;tpid:6417993;imgsize:s;cmt_num:382\" data-ual-gotocontent=\"true\" data-ylk=\"rsec:tpto;slk:title;pos:3;tpid:6417993;imgsize:s;cmt_num:382\" href=\"https://news.yahoo.co.jp/pickup/6417993\"><div class=\"_2cXD1uC4eaOih4-zkRgqjU\"><div class=\"TRuzXRRZHRqbqgLUCCco9\"><h1 class=\"_3cl937Zpn1ce8mDKd5kp7u\"><span class=\"fQMqQTGJTbIMxjQwZA2zk _3tGRl6x9iIWRiFTkKl3kcR\">在ウクライナ米大使館職員 退避へ</span></h1><span class=\"_2obRU_TgAxzHaYqOXrZYlv\"><span class=\"h4yLXygiSc5wwNlJOQEdz _1dr5aVDbNPF63JCS2bJhij _2M3AyDfFaeJl3Uo7lUPMAp\" style=\"width:30px;height:12px\">NEW</span></span></div></div></a>,\n",
       " <a class=\"yMWCYupQNdgppL-NV6sMi _3sAlKGsIBCxTUbNi86oSjt\" data-cl-params=\"_cl_vmodule:tpto;_cl_link:title;_cl_position:4;tpid:6417994;imgsize:s;cmt_num:108\" data-ual-gotocontent=\"true\" data-ylk=\"rsec:tpto;slk:title;pos:4;tpid:6417994;imgsize:s;cmt_num:108\" href=\"https://news.yahoo.co.jp/pickup/6417994\"><div class=\"_2cXD1uC4eaOih4-zkRgqjU\"><div class=\"TRuzXRRZHRqbqgLUCCco9\"><h1 class=\"_3cl937Zpn1ce8mDKd5kp7u\"><span class=\"fQMqQTGJTbIMxjQwZA2zk _3tGRl6x9iIWRiFTkKl3kcR\">貨物便の落下部品 滑走路脇で発見</span></h1><span class=\"_2obRU_TgAxzHaYqOXrZYlv\"><span class=\"h4yLXygiSc5wwNlJOQEdz _1dr5aVDbNPF63JCS2bJhij _2M3AyDfFaeJl3Uo7lUPMAp\" style=\"width:30px;height:12px\">NEW</span></span></div></div></a>,\n",
       " <a class=\"yMWCYupQNdgppL-NV6sMi _3sAlKGsIBCxTUbNi86oSjt\" data-cl-params=\"_cl_vmodule:tpto;_cl_link:title;_cl_position:5;tpid:6417998;imgsize:s;cmt_num:242\" data-ual-gotocontent=\"true\" data-ylk=\"rsec:tpto;slk:title;pos:5;tpid:6417998;imgsize:s;cmt_num:242\" href=\"https://news.yahoo.co.jp/pickup/6417998\"><div class=\"_2cXD1uC4eaOih4-zkRgqjU\"><div class=\"TRuzXRRZHRqbqgLUCCco9\"><h1 class=\"_3cl937Zpn1ce8mDKd5kp7u\"><span class=\"fQMqQTGJTbIMxjQwZA2zk _3tGRl6x9iIWRiFTkKl3kcR\">京急パタパタ撤去 助役さみしい</span></h1><span class=\"_2obRU_TgAxzHaYqOXrZYlv\"><span class=\"h4yLXygiSc5wwNlJOQEdz _1dr5aVDbNPF63JCS2bJhij _2M3AyDfFaeJl3Uo7lUPMAp\" style=\"width:30px;height:12px\">NEW</span></span></div></div></a>,\n",
       " <a class=\"yMWCYupQNdgppL-NV6sMi _3sAlKGsIBCxTUbNi86oSjt\" data-cl-params=\"_cl_vmodule:tpto;_cl_link:title;_cl_position:6;tpid:6417991;imgsize:s;cmt_num:365\" data-ual-gotocontent=\"true\" data-ylk=\"rsec:tpto;slk:title;pos:6;tpid:6417991;imgsize:s;cmt_num:365\" href=\"https://news.yahoo.co.jp/pickup/6417991\"><div class=\"_2cXD1uC4eaOih4-zkRgqjU\"><div class=\"TRuzXRRZHRqbqgLUCCco9\"><h1 class=\"_3cl937Zpn1ce8mDKd5kp7u\"><span class=\"fQMqQTGJTbIMxjQwZA2zk _3tGRl6x9iIWRiFTkKl3kcR\">大逆転 藤沢五月「練習してきた」</span></h1><span class=\"_2obRU_TgAxzHaYqOXrZYlv\"><span class=\"h4yLXygiSc5wwNlJOQEdz _1dr5aVDbNPF63JCS2bJhij _2M3AyDfFaeJl3Uo7lUPMAp\" style=\"width:30px;height:12px\">NEW</span></span></div></div></a>,\n",
       " <a class=\"yMWCYupQNdgppL-NV6sMi _3sAlKGsIBCxTUbNi86oSjt\" data-cl-params=\"_cl_vmodule:tpto;_cl_link:title;_cl_position:7;tpid:6417990;imgsize:s;cmt_num:612\" data-ual-gotocontent=\"true\" data-ylk=\"rsec:tpto;slk:title;pos:7;tpid:6417990;imgsize:s;cmt_num:612\" href=\"https://news.yahoo.co.jp/pickup/6417990\"><div class=\"_2cXD1uC4eaOih4-zkRgqjU\"><div class=\"TRuzXRRZHRqbqgLUCCco9\"><h1 class=\"_3cl937Zpn1ce8mDKd5kp7u\"><span class=\"fQMqQTGJTbIMxjQwZA2zk _3tGRl6x9iIWRiFTkKl3kcR\">エキシビに羽生? 組織委まだ内緒</span></h1></div></div></a>,\n",
       " <a class=\"yMWCYupQNdgppL-NV6sMi _3sAlKGsIBCxTUbNi86oSjt\" data-cl-params=\"_cl_vmodule:tpto;_cl_link:title;_cl_position:8;tpid:6417986;imgsize:s;cmt_num:326\" data-ual-gotocontent=\"true\" data-ylk=\"rsec:tpto;slk:title;pos:8;tpid:6417986;imgsize:s;cmt_num:326\" href=\"https://news.yahoo.co.jp/pickup/6417986\"><div class=\"_2cXD1uC4eaOih4-zkRgqjU\"><div class=\"TRuzXRRZHRqbqgLUCCco9\"><h1 class=\"_3cl937Zpn1ce8mDKd5kp7u\"><span class=\"fQMqQTGJTbIMxjQwZA2zk _3tGRl6x9iIWRiFTkKl3kcR\">テリー伊藤「ダンス甲子園」秘話</span></h1></div></div></a>]"
      ]
     },
     "execution_count": 9,
     "metadata": {},
     "output_type": "execute_result"
    }
   ],
   "source": [
    "elems"
   ]
  },
  {
   "cell_type": "code",
   "execution_count": 10,
   "metadata": {},
   "outputs": [
    {
     "data": {
      "text/plain": [
       "'全国の重症者1352人 1カ月で13倍'"
      ]
     },
     "execution_count": 10,
     "metadata": {},
     "output_type": "execute_result"
    }
   ],
   "source": [
    "elems[0].span.string"
   ]
  },
  {
   "cell_type": "code",
   "execution_count": 11,
   "metadata": {},
   "outputs": [
    {
     "data": {
      "text/plain": [
       "'https://news.yahoo.co.jp/pickup/6417988'"
      ]
     },
     "execution_count": 11,
     "metadata": {},
     "output_type": "execute_result"
    }
   ],
   "source": [
    "elems[0].attrs[\"href\"]"
   ]
  },
  {
   "cell_type": "code",
   "execution_count": 12,
   "metadata": {},
   "outputs": [
    {
     "data": {
      "text/plain": [
       "'濃厚接触 欠勤扱いは「死活問題」'"
      ]
     },
     "execution_count": 12,
     "metadata": {},
     "output_type": "execute_result"
    }
   ],
   "source": [
    "elems[1].span.string"
   ]
  },
  {
   "cell_type": "code",
   "execution_count": 13,
   "metadata": {},
   "outputs": [
    {
     "data": {
      "text/plain": [
       "'https://news.yahoo.co.jp/pickup/6417987'"
      ]
     },
     "execution_count": 13,
     "metadata": {},
     "output_type": "execute_result"
    }
   ],
   "source": [
    "elems[1].attrs[\"href\"]"
   ]
  },
  {
   "cell_type": "code",
   "execution_count": 14,
   "metadata": {},
   "outputs": [
    {
     "name": "stdout",
     "output_type": "stream",
     "text": [
      "全国の重症者1352人 1カ月で13倍\n",
      "https://news.yahoo.co.jp/pickup/6417988\n",
      "濃厚接触 欠勤扱いは「死活問題」\n",
      "https://news.yahoo.co.jp/pickup/6417987\n",
      "在ウクライナ米大使館職員 退避へ\n",
      "https://news.yahoo.co.jp/pickup/6417993\n",
      "貨物便の落下部品 滑走路脇で発見\n",
      "https://news.yahoo.co.jp/pickup/6417994\n",
      "京急パタパタ撤去 助役さみしい\n",
      "https://news.yahoo.co.jp/pickup/6417998\n",
      "大逆転 藤沢五月「練習してきた」\n",
      "https://news.yahoo.co.jp/pickup/6417991\n",
      "エキシビに羽生? 組織委まだ内緒\n",
      "https://news.yahoo.co.jp/pickup/6417990\n",
      "テリー伊藤「ダンス甲子園」秘話\n",
      "https://news.yahoo.co.jp/pickup/6417986\n"
     ]
    }
   ],
   "source": [
    "for elem in elems:\n",
    "    print(elem.span.string)\n",
    "    print(elem.attrs[\"href\"])"
   ]
  },
  {
   "cell_type": "code",
   "execution_count": 15,
   "metadata": {},
   "outputs": [],
   "source": [
    "pickup_links = [elem.attrs[\"href\"] for elem in elems]"
   ]
  },
  {
   "cell_type": "code",
   "execution_count": 16,
   "metadata": {},
   "outputs": [
    {
     "name": "stdout",
     "output_type": "stream",
     "text": [
      "['https://news.yahoo.co.jp/pickup/6417988', 'https://news.yahoo.co.jp/pickup/6417987', 'https://news.yahoo.co.jp/pickup/6417993', 'https://news.yahoo.co.jp/pickup/6417994', 'https://news.yahoo.co.jp/pickup/6417998', 'https://news.yahoo.co.jp/pickup/6417991', 'https://news.yahoo.co.jp/pickup/6417990', 'https://news.yahoo.co.jp/pickup/6417986']\n"
     ]
    }
   ],
   "source": [
    "print(pickup_links)"
   ]
  },
  {
   "cell_type": "code",
   "execution_count": 17,
   "metadata": {
    "scrolled": true
   },
   "outputs": [
    {
     "name": "stdout",
     "output_type": "stream",
     "text": [
      "https://news.yahoo.co.jp/articles/595229ecfa143141b2da0876776cebc13416789b\n",
      "【速報】新型コロナ　全国の重症者1352人 1カ月で13倍増　死者数とともに増加傾向止まらず（FNNプライムオンライン） - Yahoo!ニュース\n",
      "https://news.yahoo.co.jp/articles/595229ecfa143141b2da0876776cebc13416789b\n",
      "厚生労働省によると、11日時点での、新型コロナウイルスの全国の重症者数が1352人にのぼった。前の日よりも12人増えた。1カ月前の全国の重症者数（1月11日・105人）と比べると、およそ13倍増えたことになる。\n",
      "\n",
      "全国の重症者数は、過去の感染ピーク時には、1000人台~2000人台で推移していた。2021年9月3日には、過去最多の2223人を記録。しかし、その後、減少し、11月以降は100人を下回っていた。ところが、オミクロン株の感染急拡大に伴い、全国の重症者数も急増。2月3日には、およそ4カ月ぶりに1000人を上回り、その後も増加傾向が続いている。\n",
      "\n",
      "一方、重症者の増加とともに、全国で、新型コロナ患者の中で死亡する人も増えている。特に2月に入ってからは、連日、100人以上の死者が報告されている。8日は159人、9日は162人、10日は164人、11日は150人の死亡が発表された。\n",
      "\n",
      "\n",
      "\n",
      "https://news.yahoo.co.jp/articles/fddccbdc81ed87952854d2fe76f12fc13c6c5824\n",
      "濃厚接触者の自宅待機、欠勤扱いは「死活問題」　シングルマザーから悲痛な叫び〈AERA〉（AERA dot.） - Yahoo!ニュース\n",
      "https://news.yahoo.co.jp/articles/fddccbdc81ed87952854d2fe76f12fc13c6c5824\n",
      "　オミクロン株の感染者拡大とともに増えている濃厚接触者。自宅待機になったことで、生活が苦しくなった人もいる。自己都合の欠勤扱いで補償がないケースがある。「オミクロン版自宅待機」を特集したAERA 2022年2月14日号から。\n",
      "\n",
      "【オミクロン版「自宅療養マニュアル」チェックリストはこちら！】\n",
      "\n",
      "\n",
      "\n",
      "https://news.yahoo.co.jp/articles/0230db73463e622a9e1f331b6099057588610388\n",
      "在ウクライナ米大使館職員、国外退避へ（共同通信） - Yahoo!ニュース\n",
      "https://news.yahoo.co.jp/articles/0230db73463e622a9e1f331b6099057588610388\n",
      "　【ワシントン共同】AP通信は11日、ロシアによるウクライナ侵攻の懸念が高まる中、米政府が在ウクライナ米大使館の全ての米国人職員を国外退避させる見通しだと報じた。\n",
      "\n",
      "\n",
      "\n",
      "https://news.yahoo.co.jp/articles/e3b8b1afcf198b9dbb15194a9c0dae5d92efe722\n",
      "日本貨物航空　落下部品が成田空港の滑走路脇で見つかる（日テレNEWS） - Yahoo!ニュース\n",
      "https://news.yahoo.co.jp/articles/e3b8b1afcf198b9dbb15194a9c0dae5d92efe722\n",
      "11日夜、成田空港に到着した日本貨物航空の機体の翼から重さ60キロの部品が無くなっていた問題で、12日昼前、この部品が滑走路脇で見つかり、回収されました。\n",
      "\n",
      "国土交通省によりますと、12日午前11時ごろ、成田空港A滑走路の脇に航空機の部品が落ちているのが見つかり、回収したということです。\n",
      "\n",
      "成田空港では11日午後9時過ぎ、日本貨物航空226便の部品が無くなっていることが到着後の点検で明らかになっていました。\n",
      "\n",
      "無くなった部品は長さ4メートル40センチ、幅60センチ、重さが60キロある、左の翼のフラップのカバーで、12日、滑走路脇で回収された部品であることが確認されたということです。\n",
      "\n",
      "成田空港事務所によりますと、着陸の際に落下したとみられ、日本貨物航空は原因を詳しく調べています。\n",
      "\n",
      "\n",
      "\n",
      "https://news.yahoo.co.jp/articles/d4f99e7b9e87319de0f804c6a5290c2829c56b72\n",
      "関東最後の「パタパタ」ついに撤去、最新式の液晶モニターに（読売新聞オンライン） - Yahoo!ニュース\n",
      "https://news.yahoo.co.jp/articles/d4f99e7b9e87319de0f804c6a5290c2829c56b72\n",
      "　京浜急行電鉄京急川崎駅（川崎市）で、乗客や鉄道ファンに「パタパタ」と呼ばれて親しまれたパネル回転式の行き先表示板が１２日未明、撤去された。\n",
      "\n",
      "【動画】レトロな案内表示装置「パタパタ」、間もなく「引退」…京急川崎駅\n",
      "\n",
      "\n",
      "\n",
      "https://news.yahoo.co.jp/articles/2ce5967a290f0a23893b3af332b13bbd1ec7961f\n",
      "土壇場大逆転勝利！カーリング女子「よくさっちゃんが決めた」藤沢は胸張る「練習してきた」（デイリースポーツ） - Yahoo!ニュース\n",
      "https://news.yahoo.co.jp/articles/2ce5967a290f0a23893b3af332b13bbd1ec7961f\n",
      "　「北京五輪・カーリング女子・１次リーグ、日本８－７デンマーク」（１２日、国家水泳センター）\n",
      "\n",
      "【写真】もぐもぐタイムの藤沢ちゃん、何でこんなに可愛いんだろう　羊羹にどら焼きも\n",
      "\n",
      "　世界ランク７位の日本は、１８年平昌五輪銅メダルのロコ・ソラーレが、世界ランク１０位のデンマークに８－７で逆転勝利した。\n",
      "\n",
      "　まさに、ミラクルショットだった。２点を追う第１０エンド。藤沢が最後の１投で、デンマークの２つの石をはじき飛ばすダブルテイクアウトを決めるスーパーショット。一挙３点を入れ、土壇場で試合をひっくり返した。\n",
      "\n",
      "　劇的な大逆転勝利。試合後、メンバーからは笑顔がはじけた。リードの吉田夕は「最後、よくさっちゃんが決めてくれた」と藤沢に感謝。セカンドの鈴木は冷静に「しっかり我慢して、クロスゲームを維持して最後勝ち切れたのが良かった」と振り返った。\n",
      "\n",
      "　サードの吉田知は「デンマークのスキップの選手がすごくさえていて、我慢する展開が１０エンドまで続いた。最後まであきらめなくて良かった」と語り、スキップの藤沢は「あのショットはスキップのここぞのショット。ああいうショットを投げるのは大会が始まる前からイメージして練習してきたので、決まって良かった」と胸を張った。\n",
      "\n",
      "　今大会は１次リーグを１０チームが総当たりで行い、上位４チームが準決勝に進出する。通算２勝１敗とした日本は次戦、１２日夜にＲＯＣ（ロシア・オリンピック委員会）と対戦する。\n",
      "\n",
      "\n",
      "\n",
      "https://news.yahoo.co.jp/articles/ce4d516205a6dc3a5608d7a94f9e230fa28046fb\n",
      "フィギュアのエキシビに海外記者「羽生は？」の質問　「まだ内緒」北京五輪組織委（デイリースポーツ） - Yahoo!ニュース\n",
      "https://news.yahoo.co.jp/articles/ce4d516205a6dc3a5608d7a94f9e230fa28046fb\n",
      "　国際オリンピック委員会（ＩＯＣ）は１２日、北京五輪での定例会見を行った。会見では、海外メディアからフィギュアスケートで２０日に予定されているエキシビションについて、「羽生選手は出場するのか」と質問があった。\n",
      "\n",
      "【写真】キスアンドクライで目元をぬぐう　こんな羽生、みたことない\n",
      "\n",
      "　会見では「コロナ禍だが、エキシビションは開催できるのか」と言う質問に続いて、羽生について聞かれ、ＩＯＣのアダムス広報部長は「ＩＳＵ（国際スケート連盟）から情報提供がある」とだけ答えた。一方、北京五輪組織委員会の広報担当者は「私が知る限り、エキシビは実施される予定。でも、誰が出るかはまだ内緒です。最後まで発表することはしない」と説明した。\n",
      "\n",
      "　現状では、男子で銀メダルを獲得した鍵山優真（オリエンタルバイオ・星槎）、銅メダルの宇野昌磨（トヨタ自動車）とともに、４位の羽生結弦（ＡＮＡ）も出場するとみられている。\n",
      "\n",
      "\n",
      "\n",
      "https://news.yahoo.co.jp/articles/a18f052852c89517cc5319cf56b3e3dea29061eb\n",
      "テリー伊藤が語る『ダンス甲子園』誕生秘話。制服を着る条件にはこだわりがあった（webスポルティーバ） - Yahoo!ニュース\n",
      "https://news.yahoo.co.jp/articles/a18f052852c89517cc5319cf56b3e3dea29061eb\n",
      "テリー伊藤 インタビュー後編\n",
      "\n",
      "　1985年、それまでのテレビ界の常識を覆す革命的なバラエティ番組『天才・たけしの元気が出るテレビ!!』がスタートした。既存のタレントではない素人を積極的に起用し、その人たちの成長の記録などを見せていくドキュメントバラエティを生み出すなど、現代では当たり前となっている番組作りの手法のほとんどが、この『元気が出るテレビ!!』で作られたと言われる。\n",
      "\n",
      "【写真】Dリーグ・ダンスチーム 2021-22\n",
      "\n",
      "　その総合演出を担当したのが、テリー伊藤。『早朝バズーカ』、『聖人ガンジーオセロの奇跡』、『失恋傷心バスツアー』、『お嬢さまを探せ』、『ボクシング予備校』など数々の名物企画を生み出したが、なかでも社会的なブームとなったのが、『ダンス甲子園』だ。\n",
      "\n",
      "　現在、日本発のプロダンスリーグ「Dリーグ」のレギュラージャッジを務めるテリー伊藤は、80年代からダンスに注目してきた。そこには彼の青春時代の記憶があった。\n",
      "\n",
      "「僕は学生時代からダンスをやっていました。僕らのころはゴーゴーダンスとか、ツイストですよ。昔は湘南の海岸で夜に音楽を流していて、パーティーができたんですよ。ゴーゴー大会とかツイスト大会とか、そういうのに僕も出ていましたよ」\n",
      "\n",
      "　高校時代からダンスを楽しんでいたテリー伊藤。大学時代は学園闘争に参加し、テモ行進中の投石により左目を負傷。失明は免れたものの斜視になるなど、苛烈な日常を送っていたが、そんななかでも年に２回ほどダンスパーティーを主催したりして、ダンスには関わってきた。それは「ダンスに対するあこがれがあった」からだ。\n",
      "\n",
      "　その思いを抱き続けていたテリー伊藤が『ダンス甲子園』を発案したきっかけは、ある番組が発端となって起こったバンドブームだった。\n",
      "\n",
      "「実は当時、『イカすバンド天国』という番組がはやっていました。でも実際にバンドをやるとなると、ドラムもギターもアンプもいる。練習場所も必要だし、ギターをやるには手先も起用でないといけない。高校生がバンドメンバーを集めるまで、半年とか１年はかかります。これってすごく条件が多いんですよ。\n",
      "\n",
      "　そこで考えたのがダンス。お金がなくてもできるから、高校生には合うんですよ。しかもテレビで見て自分もやりたいと思ったら、その場ですぐにできるんですよ」\n",
      "\n",
      "\n",
      "\n"
     ]
    }
   ],
   "source": [
    "for pickup_link in pickup_links:\n",
    "    pickup_res = requests.get(pickup_link)\n",
    "    pickup_soup = BeautifulSoup(pickup_res.text,\"html.parser\")\n",
    "    \n",
    "    # ビデオより一部変更。詳細はレクチャー「サイトの変更に伴うコードの変更点」をご参照ください\n",
    "#     pickup_elem = pickup_soup.find(\"p\", class_=\"pickupMain_detailLink\") # class属性の値は、サイトを確認して最新の値を設定する必要があります\n",
    "#     news_link = pickup_elem.a.attrs[\"href\"]\n",
    "    pickup_elem = pickup_soup.select(\"a:contains('記事全文を読む')\")[0]\n",
    "    news_link = pickup_elem.attrs[\"href\"]\n",
    "    print(news_link)\n",
    "    \n",
    "    news_res = requests.get(news_link)\n",
    "    news_soup = BeautifulSoup(news_res.text,\"html.parser\")\n",
    "    \n",
    "    print(news_soup.title.text)\n",
    "    print(news_link)\n",
    "    \n",
    "    # ビデオより一部変更。詳細はレクチャー「サイトの変更に伴うコードの変更点」をご参照ください\n",
    "    detail_text = news_soup.find(class_=re.compile(\"Directlink\")) # class属性の値は、サイトを確認して最新の値を設定する必要があります\n",
    "    print(detail_text.text if hasattr(detail_text, \"text\") else '',end=\"\\n\\n\\n\\n\")\n",
    "    \n",
    "    time.sleep(1)"
   ]
  }
 ],
 "metadata": {
  "kernelspec": {
   "display_name": "Python 3",
   "language": "python",
   "name": "python3"
  },
  "language_info": {
   "codemirror_mode": {
    "name": "ipython",
    "version": 3
   },
   "file_extension": ".py",
   "mimetype": "text/x-python",
   "name": "python",
   "nbconvert_exporter": "python",
   "pygments_lexer": "ipython3",
   "version": "3.8.5"
  }
 },
 "nbformat": 4,
 "nbformat_minor": 2
}
