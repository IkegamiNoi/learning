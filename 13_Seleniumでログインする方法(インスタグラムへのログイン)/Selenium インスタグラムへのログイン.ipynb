{
 "cells": [
  {
   "cell_type": "code",
   "execution_count": 1,
   "metadata": {},
   "outputs": [],
   "source": [
    "from selenium import webdriver\n",
    "from time import sleep"
   ]
  },
  {
   "cell_type": "code",
   "execution_count": 2,
   "metadata": {},
   "outputs": [],
   "source": [
    "USERNAME = \"yoshitaka3126\" # ユーザー名を設定してください\n",
    "PASSWORD = \"XXXXXXXXXX\" # パスワードを設定してください"
   ]
  },
  {
   "cell_type": "code",
   "execution_count": 3,
   "metadata": {},
   "outputs": [],
   "source": [
    "driver = webdriver.Chrome(r\"C:\\Test_Folder\\chromedriver_win32\\chromedriver\")\n",
    "target_url = \"https://www.instagram.com/\"\n",
    "driver.get(target_url)\n",
    "sleep(3)"
   ]
  },
  {
   "cell_type": "code",
   "execution_count": 4,
   "metadata": {},
   "outputs": [],
   "source": [
    "error_flg = False"
   ]
  },
  {
   "cell_type": "code",
   "execution_count": 5,
   "metadata": {},
   "outputs": [],
   "source": [
    "try:\n",
    "    username_input = driver.find_element_by_xpath(\"//input[@aria-label='電話番号、ユーザーネーム、メールアドレス']\") #XPathの場合\n",
    "#     username_input = driver.find_element_by_css_selector(\"input[aria-label='電話番号、ユーザーネーム、メールアドレス']\") #CSSセレクタの場合\n",
    "    username_input.send_keys(USERNAME)\n",
    "    sleep(1)\n",
    "    \n",
    "    password_input = driver.find_element_by_xpath(\"//input[@aria-label='パスワード']\") #XPathの場合\n",
    "#     password_input = driver.find_element_by_css_selector(\"input[aria-label='パスワード']\") #CSSセレクタの場合\n",
    "    password_input.send_keys(PASSWORD)\n",
    "    sleep(1)\n",
    "    \n",
    "    login_burron = driver.find_element_by_xpath(\"//button[@type='submit']\") #XPathの場合\n",
    "#     login_burron = driver.find_element_by_css_selector(\"button[type='submit']\") #CSSセレクタの場合\n",
    "    login_burron.submit()\n",
    "    sleep(1)\n",
    "    \n",
    "except Exception:\n",
    "    error_flg = True\n",
    "    print(\"ユーザー名、パスワード入力時にエラーが発生しました。\")"
   ]
  },
  {
   "cell_type": "code",
   "execution_count": 6,
   "metadata": {},
   "outputs": [],
   "source": [
    "if error_flg is False:\n",
    "    try:\n",
    "        sleep(2)\n",
    "        notnow_button = driver.find_element_by_xpath(\"//button[text()='後で']\") #XPathの場合\n",
    "#         notnow_button = driver.find_element_by_css_selector(\"button.aOOlW.HoLwm\") #CSSセレクタの場合(テキストを指定するCSSセレクタはありません)\n",
    "        notnow_button.click()\n",
    "        sleep(1)\n",
    "        \n",
    "    except Exception:\n",
    "        pass"
   ]
  },
  {
   "cell_type": "code",
   "execution_count": 7,
   "metadata": {},
   "outputs": [],
   "source": [
    "# 確認画面が２回表示された場合も、上記と同じコードを実行します。\n",
    "if error_flg is False:\n",
    "    try:\n",
    "        sleep(2)\n",
    "        notnow_button = driver.find_element_by_xpath(\"//button[text()='後で']\") #XPathの場合\n",
    "#         notnow_button = driver.find_element_by_css_selector(\"button.aOOlW.HoLwm\") #CSSセレクタの場合(テキストを指定するCSSセレクタはありません)\n",
    "        notnow_button.click()\n",
    "        sleep(1)\n",
    "        \n",
    "    except Exception:\n",
    "        pass"
   ]
  }
 ],
 "metadata": {
  "kernelspec": {
   "display_name": "Python 3 (ipykernel)",
   "language": "python",
   "name": "python3"
  },
  "language_info": {
   "codemirror_mode": {
    "name": "ipython",
    "version": 3
   },
   "file_extension": ".py",
   "mimetype": "text/x-python",
   "name": "python",
   "nbconvert_exporter": "python",
   "pygments_lexer": "ipython3",
   "version": "3.8.13"
  }
 },
 "nbformat": 4,
 "nbformat_minor": 2
}
