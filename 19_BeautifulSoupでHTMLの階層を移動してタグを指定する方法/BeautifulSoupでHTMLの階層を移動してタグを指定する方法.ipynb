{
 "cells": [
  {
   "cell_type": "code",
   "execution_count": 1,
   "metadata": {},
   "outputs": [],
   "source": [
    "from bs4 import BeautifulSoup"
   ]
  },
  {
   "cell_type": "code",
   "execution_count": 2,
   "metadata": {},
   "outputs": [],
   "source": [
    "html = \"\"\"\n",
    "<html>\n",
    "    <head>\n",
    "        <title>清水義孝の著書</title>\n",
    "    </head>\n",
    "    <body>\n",
    "        <p class=\"title\">\n",
    "            <b>清水義孝の最新の著書には、次の本があります。</b>\n",
    "        </p>\n",
    "        <p class=\"recent books\">\n",
    "            <a class=\"book\" href=\"https://www.amazon.co.jp/dp/B07TN4D3HG\" id=\"link1\">\n",
    "                Python3によるビジネスに役立つデータ分析入門\n",
    "            </a>\n",
    "            <a class=\"book\" href=\"http://www.amazon.co.jp/dp/B07SRLRS4M\" id=\"link2\">\n",
    "                よくわかるPython3入門2.NumPy・Matplotlib編\n",
    "            </a>\n",
    "            <a class=\"book\" href=\"http://www.amazon.co.jp/dp/B07T9SZ96B\" id=\"link3\">\n",
    "                よくわかるPython3入門4.Pandasでデータ分析編\n",
    "            </a>\n",
    "        </p>\n",
    "        <p class=\"end\">\n",
    "            <b>そして、これらの本は好評発売中です。</b>\n",
    "        </p>\n",
    "    </body>\n",
    "</html>\n",
    "\"\"\""
   ]
  },
  {
   "cell_type": "code",
   "execution_count": 3,
   "metadata": {},
   "outputs": [],
   "source": [
    "soup = BeautifulSoup(html, \"html.parser\")"
   ]
  },
  {
   "cell_type": "code",
   "execution_count": 4,
   "metadata": {},
   "outputs": [
    {
     "data": {
      "text/plain": [
       "<title>清水義孝の著書</title>"
      ]
     },
     "execution_count": 4,
     "metadata": {},
     "output_type": "execute_result"
    }
   ],
   "source": [
    "soup.html.head.title"
   ]
  },
  {
   "cell_type": "code",
   "execution_count": 5,
   "metadata": {},
   "outputs": [
    {
     "data": {
      "text/plain": [
       "<title>清水義孝の著書</title>"
      ]
     },
     "execution_count": 5,
     "metadata": {},
     "output_type": "execute_result"
    }
   ],
   "source": [
    "soup.title"
   ]
  },
  {
   "cell_type": "code",
   "execution_count": 6,
   "metadata": {},
   "outputs": [
    {
     "data": {
      "text/plain": [
       "<p class=\"title\">\n",
       "<b>清水義孝の最新の著書には、次の本があります。</b>\n",
       "</p>"
      ]
     },
     "execution_count": 6,
     "metadata": {},
     "output_type": "execute_result"
    }
   ],
   "source": [
    "soup.body.p"
   ]
  },
  {
   "cell_type": "code",
   "execution_count": 7,
   "metadata": {},
   "outputs": [
    {
     "name": "stdout",
     "output_type": "stream",
     "text": [
      "<p class=\"title\">\n",
      "<b>清水義孝の最新の著書には、次の本があります。</b>\n",
      "</p>\n",
      "\n",
      "<p class=\"recent books\">\n",
      "<a class=\"book\" href=\"https://www.amazon.co.jp/dp/B07TN4D3HG\" id=\"link1\">\n",
      "                Python3によるビジネスに役立つデータ分析入門\n",
      "            </a>\n",
      "<a class=\"book\" href=\"http://www.amazon.co.jp/dp/B07SRLRS4M\" id=\"link2\">\n",
      "                よくわかるPython3入門2.NumPy・Matplotlib編\n",
      "            </a>\n",
      "<a class=\"book\" href=\"http://www.amazon.co.jp/dp/B07T9SZ96B\" id=\"link3\">\n",
      "                よくわかるPython3入門4.Pandasでデータ分析編\n",
      "            </a>\n",
      "</p>\n",
      "\n",
      "<p class=\"end\">\n",
      "<b>そして、これらの本は好評発売中です。</b>\n",
      "</p>\n",
      "\n"
     ]
    }
   ],
   "source": [
    "for p in soup.body.find_all(\"p\"):\n",
    "    print(p,end=\"\\n\\n\")"
   ]
  },
  {
   "cell_type": "code",
   "execution_count": 8,
   "metadata": {},
   "outputs": [
    {
     "data": {
      "text/plain": [
       "'清水義孝の著書'"
      ]
     },
     "execution_count": 8,
     "metadata": {},
     "output_type": "execute_result"
    }
   ],
   "source": [
    "soup.title.string"
   ]
  },
  {
   "cell_type": "code",
   "execution_count": 9,
   "metadata": {},
   "outputs": [
    {
     "name": "stdout",
     "output_type": "stream",
     "text": [
      "\n",
      "\n",
      "\n",
      "清水義孝の著書\n",
      "\n",
      "\n",
      "\n",
      "清水義孝の最新の著書には、次の本があります。\n",
      "\n",
      "\n",
      "\n",
      "                Python3によるビジネスに役立つデータ分析入門\n",
      "            \n",
      "\n",
      "                よくわかるPython3入門2.NumPy・Matplotlib編\n",
      "            \n",
      "\n",
      "                よくわかるPython3入門4.Pandasでデータ分析編\n",
      "            \n",
      "\n",
      "\n",
      "そして、これらの本は好評発売中です。\n",
      "\n",
      "\n",
      "\n",
      "\n"
     ]
    }
   ],
   "source": [
    "print(soup.get_text())"
   ]
  },
  {
   "cell_type": "code",
   "execution_count": 10,
   "metadata": {},
   "outputs": [
    {
     "data": {
      "text/plain": [
       "['title']"
      ]
     },
     "execution_count": 10,
     "metadata": {},
     "output_type": "execute_result"
    }
   ],
   "source": [
    "soup.body.p[\"class\"]"
   ]
  },
  {
   "cell_type": "code",
   "execution_count": 11,
   "metadata": {},
   "outputs": [
    {
     "data": {
      "text/plain": [
       "['recent', 'books']"
      ]
     },
     "execution_count": 11,
     "metadata": {},
     "output_type": "execute_result"
    }
   ],
   "source": [
    "soup.body.p.next_sibling.next_sibling[\"class\"]"
   ]
  },
  {
   "cell_type": "code",
   "execution_count": 12,
   "metadata": {},
   "outputs": [
    {
     "data": {
      "text/plain": [
       "['title']"
      ]
     },
     "execution_count": 12,
     "metadata": {},
     "output_type": "execute_result"
    }
   ],
   "source": [
    "soup.body.p.get(\"class\")"
   ]
  },
  {
   "cell_type": "code",
   "execution_count": 13,
   "metadata": {},
   "outputs": [
    {
     "name": "stdout",
     "output_type": "stream",
     "text": [
      "<html>\n",
      " <head>\n",
      "  <title>\n",
      "   清水義孝の著書\n",
      "  </title>\n",
      " </head>\n",
      " <body>\n",
      "  <p class=\"title\">\n",
      "   <b>\n",
      "    清水義孝の最新の著書には、次の本があります。\n",
      "   </b>\n",
      "  </p>\n",
      "  <p class=\"recent books\">\n",
      "   <a class=\"book\" href=\"https://www.amazon.co.jp/dp/B07TN4D3HG\" id=\"link1\">\n",
      "    Python3によるビジネスに役立つデータ分析入門\n",
      "   </a>\n",
      "   <a class=\"book\" href=\"http://www.amazon.co.jp/dp/B07SRLRS4M\" id=\"link2\">\n",
      "    よくわかるPython3入門2.NumPy・Matplotlib編\n",
      "   </a>\n",
      "   <a class=\"book\" href=\"http://www.amazon.co.jp/dp/B07T9SZ96B\" id=\"link3\">\n",
      "    よくわかるPython3入門4.Pandasでデータ分析編\n",
      "   </a>\n",
      "  </p>\n",
      "  <p class=\"end\">\n",
      "   <b>\n",
      "    そして、これらの本は好評発売中です。\n",
      "   </b>\n",
      "  </p>\n",
      " </body>\n",
      "</html>\n",
      "\n"
     ]
    }
   ],
   "source": [
    "print(soup.prettify())"
   ]
  },
  {
   "cell_type": "code",
   "execution_count": 14,
   "metadata": {},
   "outputs": [
    {
     "name": "stdout",
     "output_type": "stream",
     "text": [
      "\n",
      "\n",
      "\n",
      "<p class=\"title\">\n",
      "<b>清水義孝の最新の著書には、次の本があります。</b>\n",
      "</p>\n",
      "\n",
      "\n",
      "\n",
      "\n",
      "<p class=\"recent books\">\n",
      "<a class=\"book\" href=\"https://www.amazon.co.jp/dp/B07TN4D3HG\" id=\"link1\">\n",
      "                Python3によるビジネスに役立つデータ分析入門\n",
      "            </a>\n",
      "<a class=\"book\" href=\"http://www.amazon.co.jp/dp/B07SRLRS4M\" id=\"link2\">\n",
      "                よくわかるPython3入門2.NumPy・Matplotlib編\n",
      "            </a>\n",
      "<a class=\"book\" href=\"http://www.amazon.co.jp/dp/B07T9SZ96B\" id=\"link3\">\n",
      "                よくわかるPython3入門4.Pandasでデータ分析編\n",
      "            </a>\n",
      "</p>\n",
      "\n",
      "\n",
      "\n",
      "\n",
      "<p class=\"end\">\n",
      "<b>そして、これらの本は好評発売中です。</b>\n",
      "</p>\n",
      "\n",
      "\n",
      "\n",
      "\n"
     ]
    }
   ],
   "source": [
    "for child in soup.body.contents:\n",
    "    print(child,end=\"\\n\\n\")"
   ]
  },
  {
   "cell_type": "code",
   "execution_count": 15,
   "metadata": {},
   "outputs": [
    {
     "name": "stdout",
     "output_type": "stream",
     "text": [
      "\n",
      "\n",
      "\n",
      "<p class=\"title\">\n",
      "<b>清水義孝の最新の著書には、次の本があります。</b>\n",
      "</p>\n",
      "\n",
      "\n",
      "\n",
      "\n",
      "<b>清水義孝の最新の著書には、次の本があります。</b>\n",
      "\n",
      "清水義孝の最新の著書には、次の本があります。\n",
      "\n",
      "\n",
      "\n",
      "\n",
      "\n",
      "\n",
      "\n",
      "<p class=\"recent books\">\n",
      "<a class=\"book\" href=\"https://www.amazon.co.jp/dp/B07TN4D3HG\" id=\"link1\">\n",
      "                Python3によるビジネスに役立つデータ分析入門\n",
      "            </a>\n",
      "<a class=\"book\" href=\"http://www.amazon.co.jp/dp/B07SRLRS4M\" id=\"link2\">\n",
      "                よくわかるPython3入門2.NumPy・Matplotlib編\n",
      "            </a>\n",
      "<a class=\"book\" href=\"http://www.amazon.co.jp/dp/B07T9SZ96B\" id=\"link3\">\n",
      "                よくわかるPython3入門4.Pandasでデータ分析編\n",
      "            </a>\n",
      "</p>\n",
      "\n",
      "\n",
      "\n",
      "\n",
      "<a class=\"book\" href=\"https://www.amazon.co.jp/dp/B07TN4D3HG\" id=\"link1\">\n",
      "                Python3によるビジネスに役立つデータ分析入門\n",
      "            </a>\n",
      "\n",
      "\n",
      "                Python3によるビジネスに役立つデータ分析入門\n",
      "            \n",
      "\n",
      "\n",
      "\n",
      "\n",
      "<a class=\"book\" href=\"http://www.amazon.co.jp/dp/B07SRLRS4M\" id=\"link2\">\n",
      "                よくわかるPython3入門2.NumPy・Matplotlib編\n",
      "            </a>\n",
      "\n",
      "\n",
      "                よくわかるPython3入門2.NumPy・Matplotlib編\n",
      "            \n",
      "\n",
      "\n",
      "\n",
      "\n",
      "<a class=\"book\" href=\"http://www.amazon.co.jp/dp/B07T9SZ96B\" id=\"link3\">\n",
      "                よくわかるPython3入門4.Pandasでデータ分析編\n",
      "            </a>\n",
      "\n",
      "\n",
      "                よくわかるPython3入門4.Pandasでデータ分析編\n",
      "            \n",
      "\n",
      "\n",
      "\n",
      "\n",
      "\n",
      "\n",
      "\n",
      "<p class=\"end\">\n",
      "<b>そして、これらの本は好評発売中です。</b>\n",
      "</p>\n",
      "\n",
      "\n",
      "\n",
      "\n",
      "<b>そして、これらの本は好評発売中です。</b>\n",
      "\n",
      "そして、これらの本は好評発売中です。\n",
      "\n",
      "\n",
      "\n",
      "\n",
      "\n",
      "\n",
      "\n"
     ]
    }
   ],
   "source": [
    "for child in soup.body.descendants:\n",
    "    print(child,end=\"\\n\\n\")"
   ]
  },
  {
   "cell_type": "code",
   "execution_count": 16,
   "metadata": {},
   "outputs": [
    {
     "data": {
      "text/plain": [
       "<head>\n",
       "<title>清水義孝の著書</title>\n",
       "</head>"
      ]
     },
     "execution_count": 16,
     "metadata": {},
     "output_type": "execute_result"
    }
   ],
   "source": [
    "soup.title.parent"
   ]
  },
  {
   "cell_type": "code",
   "execution_count": 17,
   "metadata": {},
   "outputs": [
    {
     "name": "stdout",
     "output_type": "stream",
     "text": [
      "p\n",
      "body\n",
      "html\n",
      "[document]\n"
     ]
    }
   ],
   "source": [
    "for parent in soup.a.parents:\n",
    "    print(parent.name)"
   ]
  },
  {
   "cell_type": "code",
   "execution_count": 19,
   "metadata": {},
   "outputs": [
    {
     "data": {
      "text/plain": [
       "<p class=\"recent books\">\n",
       "<a class=\"book\" href=\"https://www.amazon.co.jp/dp/B07TN4D3HG\" id=\"link1\">\n",
       "                Python3によるビジネスに役立つデータ分析入門\n",
       "            </a>\n",
       "<a class=\"book\" href=\"http://www.amazon.co.jp/dp/B07SRLRS4M\" id=\"link2\">\n",
       "                よくわかるPython3入門2.NumPy・Matplotlib編\n",
       "            </a>\n",
       "<a class=\"book\" href=\"http://www.amazon.co.jp/dp/B07T9SZ96B\" id=\"link3\">\n",
       "                よくわかるPython3入門4.Pandasでデータ分析編\n",
       "            </a>\n",
       "</p>"
      ]
     },
     "execution_count": 19,
     "metadata": {},
     "output_type": "execute_result"
    }
   ],
   "source": [
    "soup.body.p.next_sibling.next_sibling"
   ]
  },
  {
   "cell_type": "code",
   "execution_count": 20,
   "metadata": {},
   "outputs": [
    {
     "name": "stdout",
     "output_type": "stream",
     "text": [
      "\n",
      "\n",
      "<p class=\"recent books\">\n",
      "<a class=\"book\" href=\"https://www.amazon.co.jp/dp/B07TN4D3HG\" id=\"link1\">\n",
      "                Python3によるビジネスに役立つデータ分析入門\n",
      "            </a>\n",
      "<a class=\"book\" href=\"http://www.amazon.co.jp/dp/B07SRLRS4M\" id=\"link2\">\n",
      "                よくわかるPython3入門2.NumPy・Matplotlib編\n",
      "            </a>\n",
      "<a class=\"book\" href=\"http://www.amazon.co.jp/dp/B07T9SZ96B\" id=\"link3\">\n",
      "                よくわかるPython3入門4.Pandasでデータ分析編\n",
      "            </a>\n",
      "</p>\n",
      "\n",
      "\n",
      "\n",
      "<p class=\"end\">\n",
      "<b>そして、これらの本は好評発売中です。</b>\n",
      "</p>\n",
      "\n",
      "\n",
      "\n"
     ]
    }
   ],
   "source": [
    "for sibling in soup.body.p.next_siblings:\n",
    "    print(sibling if sibling != \"\\n\" else \"\", end=\"\\n\\n\")"
   ]
  },
  {
   "cell_type": "code",
   "execution_count": 21,
   "metadata": {},
   "outputs": [
    {
     "data": {
      "text/plain": [
       "<head>\n",
       "<title>清水義孝の著書</title>\n",
       "</head>"
      ]
     },
     "execution_count": 21,
     "metadata": {},
     "output_type": "execute_result"
    }
   ],
   "source": [
    "soup.body.previous_sibling.previous_sibling"
   ]
  },
  {
   "cell_type": "code",
   "execution_count": 23,
   "metadata": {},
   "outputs": [
    {
     "name": "stdout",
     "output_type": "stream",
     "text": [
      "\n",
      "\n",
      "['recent', 'books']\n",
      "\n",
      "\n",
      "\n",
      "['title']\n",
      "\n",
      "\n",
      "\n"
     ]
    }
   ],
   "source": [
    "for sibling in soup.body.find(\"p\",class_=\"end\").previous_siblings:\n",
    "    print(sibling[\"class\"] if sibling != \"\\n\" else \"\", end=\"\\n\\n\")"
   ]
  }
 ],
 "metadata": {
  "kernelspec": {
   "display_name": "Python 3",
   "language": "python",
   "name": "python3"
  },
  "language_info": {
   "codemirror_mode": {
    "name": "ipython",
    "version": 3
   },
   "file_extension": ".py",
   "mimetype": "text/x-python",
   "name": "python",
   "nbconvert_exporter": "python",
   "pygments_lexer": "ipython3",
   "version": "3.6.5"
  }
 },
 "nbformat": 4,
 "nbformat_minor": 2
}
