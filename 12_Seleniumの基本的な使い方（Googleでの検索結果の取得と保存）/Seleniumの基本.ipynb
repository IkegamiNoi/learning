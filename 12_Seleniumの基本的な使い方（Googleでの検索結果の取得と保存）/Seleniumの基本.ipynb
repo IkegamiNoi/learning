{
 "cells": [
  {
   "cell_type": "code",
   "execution_count": 1,
   "metadata": {},
   "outputs": [],
   "source": [
    "from selenium import webdriver\n",
    "from time import sleep\n",
    "from selenium.webdriver.chrome.options import Options\n",
    "import csv\n",
    "import datetime"
   ]
  },
  {
   "cell_type": "code",
   "execution_count": 2,
   "metadata": {},
   "outputs": [],
   "source": [
    "options = Options()\n",
    "options.add_argument(\"--headless\")\n",
    "driver = webdriver.Chrome(r\"C:\\Test_Folder\\chromedriver_win32\\chromedriver\",options=options)\n",
    "driver.get(\"https://www.google.com/\")"
   ]
  },
  {
   "cell_type": "code",
   "execution_count": 3,
   "metadata": {},
   "outputs": [],
   "source": [
    "search_bar = driver.find_element_by_name(\"q\")\n",
    "search_bar.send_keys(\"python\")"
   ]
  },
  {
   "cell_type": "code",
   "execution_count": 4,
   "metadata": {},
   "outputs": [],
   "source": [
    "search_bar.submit()"
   ]
  },
  {
   "cell_type": "code",
   "execution_count": 5,
   "metadata": {},
   "outputs": [],
   "source": [
    "csv_date = datetime.datetime.today().strftime(\"%Y%m%d\")"
   ]
  },
  {
   "cell_type": "code",
   "execution_count": 6,
   "metadata": {},
   "outputs": [],
   "source": [
    "csv_file_name = \"google_python_\" + csv_date + \".csv\""
   ]
  },
  {
   "cell_type": "code",
   "execution_count": 7,
   "metadata": {},
   "outputs": [],
   "source": [
    "f = open(csv_file_name,\"w\",encoding=\"cp932\",errors=\"ignore\")"
   ]
  },
  {
   "cell_type": "code",
   "execution_count": 8,
   "metadata": {},
   "outputs": [
    {
     "data": {
      "text/plain": [
       "14"
      ]
     },
     "execution_count": 8,
     "metadata": {},
     "output_type": "execute_result"
    }
   ],
   "source": [
    "writer = csv.writer(f,lineterminator=\"\\n\")\n",
    "csv_header = [\"検索順位\",\"タイトル\",\"URL\"]\n",
    "writer.writerow(csv_header)"
   ]
  },
  {
   "cell_type": "code",
   "execution_count": 9,
   "metadata": {},
   "outputs": [],
   "source": [
    "i = 0\n",
    "ranking = 1\n",
    "while True:\n",
    "    i = i + 1\n",
    "    sleep(1)\n",
    "    for elem_h3 in driver.find_elements_by_xpath(\"//a/h3\"): #XPathの場合\n",
    "#     for elem_h3 in driver.find_elements_by_css_selector(\"a > h3\"): #CSSセレクタの場合\n",
    "        csvlist = []\n",
    "        csvlist.append(str(ranking))\n",
    "        csvlist.append(elem_h3.text)\n",
    "        elem_a = elem_h3.find_element_by_xpath(\"..\") #XPathの場合(親要素を指定するCSSセレクタはありません)\n",
    "        csvlist.append(elem_a.get_attribute(\"href\"))\n",
    "        writer.writerow(csvlist)\n",
    "        ranking = ranking + 1\n",
    "    next_link = driver.find_element_by_id(\"pnnext\")\n",
    "    driver.get(next_link.get_attribute(\"href\"))\n",
    "    if i > 4:\n",
    "        break\n",
    "f.close()"
   ]
  }
 ],
 "metadata": {
  "kernelspec": {
   "display_name": "Python 3 (ipykernel)",
   "language": "python",
   "name": "python3"
  },
  "language_info": {
   "codemirror_mode": {
    "name": "ipython",
    "version": 3
   },
   "file_extension": ".py",
   "mimetype": "text/x-python",
   "name": "python",
   "nbconvert_exporter": "python",
   "pygments_lexer": "ipython3",
   "version": "3.8.13"
  }
 },
 "nbformat": 4,
 "nbformat_minor": 2
}
