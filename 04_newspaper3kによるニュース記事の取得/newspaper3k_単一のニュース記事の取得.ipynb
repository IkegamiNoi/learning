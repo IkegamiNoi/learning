{
 "cells": [
  {
   "cell_type": "markdown",
   "metadata": {},
   "source": [
    "# 単一のニュース記事の取得"
   ]
  },
  {
   "cell_type": "code",
   "execution_count": 1,
   "metadata": {},
   "outputs": [],
   "source": [
    "from newspaper import Article"
   ]
  },
  {
   "cell_type": "code",
   "execution_count": 2,
   "metadata": {},
   "outputs": [],
   "source": [
    "URL = \"https://www.reuters.com/article/us-health-coronavirus-usa-economy/u-s-deficit-could-quadruple-to-3-7-trillion-in-coronavirus-crisis-cbo-idUSKCN22633M\""
   ]
  },
  {
   "cell_type": "code",
   "execution_count": 3,
   "metadata": {},
   "outputs": [],
   "source": [
    "article = Article(URL, memoize_articles = False)"
   ]
  },
  {
   "cell_type": "code",
   "execution_count": 4,
   "metadata": {},
   "outputs": [],
   "source": [
    "article.download()"
   ]
  },
  {
   "cell_type": "code",
   "execution_count": 5,
   "metadata": {},
   "outputs": [],
   "source": [
    "article.parse()"
   ]
  },
  {
   "cell_type": "code",
   "execution_count": 6,
   "metadata": {},
   "outputs": [
    {
     "data": {
      "text/plain": [
       "datetime.datetime(2020, 4, 24, 19, 16, 26, tzinfo=tzutc())"
      ]
     },
     "execution_count": 6,
     "metadata": {},
     "output_type": "execute_result"
    }
   ],
   "source": [
    "article.publish_date"
   ]
  },
  {
   "cell_type": "code",
   "execution_count": 7,
   "metadata": {},
   "outputs": [
    {
     "data": {
      "text/plain": [
       "['Reuters Staff']"
      ]
     },
     "execution_count": 7,
     "metadata": {},
     "output_type": "execute_result"
    }
   ],
   "source": [
    "article.authors"
   ]
  },
  {
   "cell_type": "code",
   "execution_count": 8,
   "metadata": {},
   "outputs": [
    {
     "data": {
      "text/plain": [
       "'WASHINGTON (Reuters) - A nationwide business shutdown and surge in U.S. government spending will nearly quadruple the federal deficit to a record $3.7 trillion this fiscal year as the country combats the coronavirus pandemic, congressional forecasters said on Friday.\\n\\nFILE PHOTO: A bicyclist rides through Times Square during evening rush hour, during the outbreak of the coronavirus disease (COVID-19) in New York City, New York, U.S., April 15, 2020. REUTERS/Bryan R Smith\\n\\nU.S. gross domestic product will plunge by nearly 40% on an annualized basis in the second quarter, according to the nonpartisan Congressional Budget Office. But the CBO forecast an economic resurgence in the second half of the year, and said unemployment would crest at 16% but remain in double digits throughout 2021.\\n\\nThe CBO report illustrated the fiscal pressures lawmakers in Congress face as they prepare to craft new legislation to respond to the pandemic. Congress has already passed $3 trillion in spending on healthcare, small businesses and other measures to combat the outbreak and its economic effects.\\n\\n“If the laws currently in place governing spending and revenues generally remained unchanged and no significant additional emergency funding was provided, the federal deficit would be roughly $3.7 trillion in fiscal year 2020 and $2.1 trillion next year,” the CBO said. In March, the CBO projected deficits of just over $1 trillion in each of those years.\\n\\nThe federal debt would equal 101% of GDP by Sept. 30, when the 2020 federal fiscal year ends, and would grow to 108% by the end of fiscal 2021, CBO said.\\n\\nThe agency predicted real GDP will decline 5.6% in 2020 and then grow 2.8% in 2021. But economic activity for 2021 would still be 6.7% below a projection the CBO issued in late January.\\n\\nThe CBO’s Jan. 28 forecast, before coronavirus roared through the United States, saw the economy remaining vibrant through this presidential election year, partially due to strong consumer spending.\\n\\nNow, some experts see an even more dire landscape than the CBO.\\n\\nWilliam Hoagland, senior vice president at the Bipartisan Policy Center, a Washington think-tank focused on fiscal policy and other issues, said he thought the economy will recover slower in the second half of 2020 than the CBO’s outlook.\\n\\nHoagland added that the 2020 budget deficit could exceed $4 trillion when taking into consideration possible additional economic stimulus legislation.\\n\\nIndeed, House of Representatives Democrats already are crafting a new coronavirus aid bill. Speaker Nancy Pelosi on Friday warned it will be “expensive.”\\n\\nFurther ahead, Hoagland said in an email the next fiscal challenge facing policymakers will be how they “unwind the level of debt and deficits post-crisis without significant inflationary pressures.”'"
      ]
     },
     "execution_count": 8,
     "metadata": {},
     "output_type": "execute_result"
    }
   ],
   "source": [
    "article.text"
   ]
  },
  {
   "cell_type": "code",
   "execution_count": 9,
   "metadata": {},
   "outputs": [
    {
     "data": {
      "text/plain": [
       "'U.S. deficit could quadruple to $3.7 trillion in coronavirus crisis: CBO'"
      ]
     },
     "execution_count": 9,
     "metadata": {},
     "output_type": "execute_result"
    }
   ],
   "source": [
    "article.title"
   ]
  },
  {
   "cell_type": "markdown",
   "metadata": {},
   "source": [
    "# 自然言語処理による要約の取得"
   ]
  },
  {
   "cell_type": "code",
   "execution_count": 10,
   "metadata": {},
   "outputs": [
    {
     "name": "stderr",
     "output_type": "stream",
     "text": [
      "[nltk_data] Downloading package punkt to\n",
      "[nltk_data]     C:\\Users\\tomoy\\AppData\\Roaming\\nltk_data...\n",
      "[nltk_data]   Package punkt is already up-to-date!\n"
     ]
    },
    {
     "data": {
      "text/plain": [
       "True"
      ]
     },
     "execution_count": 10,
     "metadata": {},
     "output_type": "execute_result"
    }
   ],
   "source": [
    "import nltk\n",
    "nltk.download(\"punkt\")"
   ]
  },
  {
   "cell_type": "code",
   "execution_count": 11,
   "metadata": {},
   "outputs": [],
   "source": [
    "article.nlp()"
   ]
  },
  {
   "cell_type": "code",
   "execution_count": 12,
   "metadata": {},
   "outputs": [
    {
     "data": {
      "text/plain": [
       "['trillion',\n",
       " 'spending',\n",
       " 'deficit',\n",
       " 'cbo',\n",
       " 'second',\n",
       " 'economic',\n",
       " 'federal',\n",
       " '37',\n",
       " 'quadruple',\n",
       " '2020',\n",
       " 'fiscal',\n",
       " 'crisis',\n",
       " 'coronavirus']"
      ]
     },
     "execution_count": 12,
     "metadata": {},
     "output_type": "execute_result"
    }
   ],
   "source": [
    "article.keywords"
   ]
  },
  {
   "cell_type": "code",
   "execution_count": 13,
   "metadata": {},
   "outputs": [
    {
     "data": {
      "text/plain": [
       "'WASHINGTON (Reuters) - A nationwide business shutdown and surge in U.S. government spending will nearly quadruple the federal deficit to a record $3.7 trillion this fiscal year as the country combats the coronavirus pandemic, congressional forecasters said on Friday.\\n“If the laws currently in place governing spending and revenues generally remained unchanged and no significant additional emergency funding was provided, the federal deficit would be roughly $3.7 trillion in fiscal year 2020 and $2.1 trillion next year,” the CBO said.\\nIn March, the CBO projected deficits of just over $1 trillion in each of those years.\\nThe federal debt would equal 101% of GDP by Sept. 30, when the 2020 federal fiscal year ends, and would grow to 108% by the end of fiscal 2021, CBO said.\\nHoagland added that the 2020 budget deficit could exceed $4 trillion when taking into consideration possible additional economic stimulus legislation.'"
      ]
     },
     "execution_count": 13,
     "metadata": {},
     "output_type": "execute_result"
    }
   ],
   "source": [
    "article.summary"
   ]
  },
  {
   "cell_type": "code",
   "execution_count": 14,
   "metadata": {},
   "outputs": [
    {
     "data": {
      "text/plain": [
       "'WASHINGTON (Reuters) - A nationwide business shutdown and surge in U.S. government spending will nearly quadruple the federal deficit to a record $3.7 trillion this fiscal year as the country combats the coronavirus pandemic, congressional forecasters said on Friday.“If the laws currently in place governing spending and revenues generally remained unchanged and no significant additional emergency funding was provided, the federal deficit would be roughly $3.7 trillion in fiscal year 2020 and $2.1 trillion next year,” the CBO said.In March, the CBO projected deficits of just over $1 trillion in each of those years.The federal debt would equal 101% of GDP by Sept. 30, when the 2020 federal fiscal year ends, and would grow to 108% by the end of fiscal 2021, CBO said.Hoagland added that the 2020 budget deficit could exceed $4 trillion when taking into consideration possible additional economic stimulus legislation.'"
      ]
     },
     "execution_count": 14,
     "metadata": {},
     "output_type": "execute_result"
    }
   ],
   "source": [
    "article.summary.replace(\"\\n\",\"\")"
   ]
  }
 ],
 "metadata": {
  "kernelspec": {
   "display_name": "Python 3",
   "language": "python",
   "name": "python3"
  },
  "language_info": {
   "codemirror_mode": {
    "name": "ipython",
    "version": 3
   },
   "file_extension": ".py",
   "mimetype": "text/x-python",
   "name": "python",
   "nbconvert_exporter": "python",
   "pygments_lexer": "ipython3",
   "version": "3.8.5"
  }
 },
 "nbformat": 4,
 "nbformat_minor": 2
}
