{
 "cells": [
  {
   "cell_type": "code",
   "execution_count": 1,
   "metadata": {},
   "outputs": [],
   "source": [
    "from selenium import webdriver\n",
    "from time import sleep"
   ]
  },
  {
   "cell_type": "code",
   "execution_count": 2,
   "metadata": {},
   "outputs": [],
   "source": [
    "USERNAME = \"yoshitaka3126\" # ユーザー名を設定してください\n",
    "PASSWORD = \"XXXXXXXXXX\" # パスワードを設定してください"
   ]
  },
  {
   "cell_type": "code",
   "execution_count": 3,
   "metadata": {},
   "outputs": [],
   "source": [
    "driver = webdriver.Chrome(r\"C:\\Test_Folder\\chromedriver_win32\\chromedriver\")\n",
    "target_url = \"https://www.instagram.com/\"\n",
    "driver.get(target_url)\n",
    "sleep(3)"
   ]
  },
  {
   "cell_type": "code",
   "execution_count": 4,
   "metadata": {},
   "outputs": [],
   "source": [
    "error_flg = False"
   ]
  },
  {
   "cell_type": "code",
   "execution_count": 5,
   "metadata": {},
   "outputs": [],
   "source": [
    "try:\n",
    "    username_input = driver.find_element_by_xpath(\"//input[@aria-label='電話番号、ユーザーネーム、メールアドレス']\") #XPathの場合\n",
    "#     username_input = driver.find_element_by_css_selector(\"input[aria-label='電話番号、ユーザーネーム、メールアドレス']\") #CSSセレクタの場合\n",
    "    username_input.send_keys(USERNAME)\n",
    "    sleep(1)\n",
    "    \n",
    "    password_input = driver.find_element_by_xpath(\"//input[@aria-label='パスワード']\") #XPathの場合\n",
    "#     password_input = driver.find_element_by_css_selector(\"input[aria-label='パスワード']\") #CSSセレクタの場合\n",
    "    password_input.send_keys(PASSWORD)\n",
    "    sleep(1)\n",
    "    \n",
    "    login_burron = driver.find_element_by_xpath(\"//button[@type='submit']\") #XPathの場合\n",
    "#     login_burron = driver.find_element_by_css_selector(\"button[type='submit']\") #CSSセレクタの場合\n",
    "    login_burron.submit()\n",
    "    sleep(1)\n",
    "    \n",
    "except Exception:\n",
    "    error_flg = True\n",
    "    print(\"ユーザー名、パスワード入力時にエラーが発生しました。\")"
   ]
  },
  {
   "cell_type": "code",
   "execution_count": 6,
   "metadata": {},
   "outputs": [],
   "source": [
    "if error_flg is False:\n",
    "    try:\n",
    "        sleep(2)\n",
    "        notnow_button = driver.find_element_by_xpath(\"//button[text()='後で']\") #XPathの場合\n",
    "#         notnow_button = driver.find_element_by_css_selector(\"button.aOOlW.HoLwm\") #CSSセレクタの場合(テキストを指定するCSSセレクタはありません)\n",
    "        notnow_button.click()\n",
    "        sleep(1)\n",
    "        \n",
    "    except Exception:\n",
    "        pass"
   ]
  },
  {
   "cell_type": "code",
   "execution_count": 7,
   "metadata": {},
   "outputs": [],
   "source": [
    "# 確認画面が２回表示された場合も、上記と同じコードを実行します。\n",
    "if error_flg is False:\n",
    "    try:\n",
    "        sleep(2)\n",
    "        notnow_button = driver.find_element_by_xpath(\"//button[text()='後で']\") #XPathの場合\n",
    "#         notnow_button = driver.find_element_by_css_selector(\"button.aOOlW.HoLwm\") #CSSセレクタの場合(テキストを指定するCSSセレクタはありません)\n",
    "        notnow_button.click()\n",
    "        sleep(1)\n",
    "        \n",
    "    except Exception:\n",
    "        pass"
   ]
  },
  {
   "cell_type": "code",
   "execution_count": 8,
   "metadata": {},
   "outputs": [],
   "source": [
    "target_username = \"paulnicklen\"\n",
    "if error_flg is False:\n",
    "    try:\n",
    "        target_profile_url = target_url + target_username\n",
    "        driver.get(target_profile_url)\n",
    "        sleep(3)\n",
    "        \n",
    "    except Exception:\n",
    "        print(\"検索時にエラーが発生しました。\")\n",
    "        error_flg = True"
   ]
  },
  {
   "cell_type": "code",
   "execution_count": 9,
   "metadata": {},
   "outputs": [
    {
     "name": "stdout",
     "output_type": "stream",
     "text": [
      "投稿件数: 3225\n"
     ]
    }
   ],
   "source": [
    "if error_flg is False:\n",
    "    try:\n",
    "#        post_count = driver.find_element_by_xpath(\"//div[text()='投稿']/span/span\").text #XPathの場合 (変更後)        \n",
    "#        post_count = driver.find_element_by_xpath(\"//span[text()='投稿']\").text #XPathの場合\n",
    "#        post_count = driver.find_element_by_css_selector(\"span.g47SY\").text #CSSセレクタの場合(テキストを指定するCSSセレクタはありません)\n",
    "#        post_count = post_count.replace(\"投稿\",\"\").replace(\"件\",\"\")\n",
    "#        print(\"投稿件数: \" + post_count)\n",
    "#        post_count = int(post_count)\n",
    "        post_count = 100 # 取得したい投稿件数を指定してください。\n",
    "        if post_count > 12:\n",
    "            scroll_count = int(post_count/12) + 1\n",
    "            try:\n",
    "                for i in range(scroll_count):\n",
    "                    driver.execute_script(\"window.scrollTo(0,document.body.scrollHeight);\")\n",
    "                    sleep(2)\n",
    "                    if i > 5:\n",
    "                        break\n",
    "            except Exception:\n",
    "                print(\"画面スクロール中にエラーが発生しました。\")\n",
    "                error_flg = True\n",
    "    except Exception:\n",
    "        print(\"投稿数が取得できませんでした。\")\n",
    "        error_flg = True"
   ]
  }
 ],
 "metadata": {
  "kernelspec": {
   "display_name": "Python 3 (ipykernel)",
   "language": "python",
   "name": "python3"
  },
  "language_info": {
   "codemirror_mode": {
    "name": "ipython",
    "version": 3
   },
   "file_extension": ".py",
   "mimetype": "text/x-python",
   "name": "python",
   "nbconvert_exporter": "python",
   "pygments_lexer": "ipython3",
   "version": "3.8.13"
  }
 },
 "nbformat": 4,
 "nbformat_minor": 2
}
